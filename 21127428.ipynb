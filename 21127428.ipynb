{
 "cells": [
  {
   "cell_type": "markdown",
   "metadata": {},
   "source": [
    "# <center>Đồ án 3: Linear Regression</center>"
   ]
  },
  {
   "cell_type": "markdown",
   "metadata": {},
   "source": [
    "# Thông tin sinh viên\n",
    "\n",
    "- Họ và tên: Phạm Nguyễn Quốc Thanh\n",
    "- MSSV: 21127428\n",
    "- Lớp: 21CLC08"
   ]
  },
  {
   "cell_type": "markdown",
   "metadata": {},
   "source": [
    "# Import"
   ]
  },
  {
   "cell_type": "code",
   "execution_count": 11,
   "metadata": {},
   "outputs": [],
   "source": [
    "import pandas as pd\n",
    "import numpy as np\n",
    "from IPython.display import Markdown as md\n",
    "from sklearn.model_selection import cross_val_score, KFold\n",
    "from sklearn.linear_model import LinearRegression\n",
    "from sklearn.metrics import mean_absolute_error\n",
    "# Import thêm dữ thư viện nếu cần\n",
    "#1: Male\n",
    "#2: Female"
   ]
  },
  {
   "cell_type": "markdown",
   "metadata": {},
   "source": [
    "# Đọc dữ liệu"
   ]
  },
  {
   "cell_type": "code",
   "execution_count": 12,
   "metadata": {},
   "outputs": [],
   "source": [
    "# Đọc dữ liệu bằng pandas\n",
    "train = pd.read_csv('train.csv')\n",
    "test = pd.read_csv('test.csv')\n",
    "\n",
    "# Lấy các đặc trưng X và giá trị mục tiêu y cho các tập huấn luyện (train) và kiểm tra (test)\n",
    "X_train = train.iloc[:, :-1]    # Dataframe (chứa 10 đặc trưng huấn luyện)\n",
    "y_train = train.iloc[:, -1]     # Series    (chứa 1 giá trị mục tiêu kiểm tra)\n",
    "X_test = test.iloc[:, :-1]      # Dataframe (chứa 10 đặc trưng kiểm tra)\n",
    "y_test = test.iloc[:, -1]       # Series    (chứa 1 giá trị mục tiêu kiểm tra)\n",
    "Salary_train = train.iloc[:, [-1]].to_numpy() \n",
    "Salary_test = test.iloc[:, [-1]]\n",
    "first_11_data_train = train.iloc[:, :11].to_numpy()\n",
    "first_11_data_test = test.iloc[:, :11].to_numpy()\n",
    "first_3_data = train.iloc[:3, :3]\n",
    "# Sinh viên có thể sử dụng các khác nếu cần"
   ]
  },
  {
   "cell_type": "markdown",
   "metadata": {},
   "source": [
    "# Cài đặt hàm"
   ]
  },
  {
   "cell_type": "code",
   "execution_count": 379,
   "metadata": {},
   "outputs": [],
   "source": [
    "# Cài đặt các hàm cần thiết ở đây\n",
    "class OLSLinearRegression:\n",
    "    def fit(self, X, y):\n",
    "        X_pinv = np.linalg.inv(X.T @ X) @ X.T    # np.linalg.pinv(X)\n",
    "        self.w = X_pinv @ y\n",
    "\n",
    "        return self\n",
    "\n",
    "\n",
    "    def get_params(self):\n",
    "        return self.w\n",
    "\n",
    "\n",
    "    def predict(self, X):\n",
    "        return np.sum(self.w.ravel() * X, axis=1)\n",
    "\n",
    "def mae(y, y_hat):\n",
    "    return np.mean(np.abs(y.ravel() - y_hat.ravel())) \n",
    "\n",
    "def format_float(x):\n",
    "    return '{:.3f}'.format(x)"
   ]
  },
  {
   "cell_type": "markdown",
   "metadata": {},
   "source": [
    "# Yêu cầu 1a: Sử dụng toàn bộ 11 đặc trưng đầu tiên `Gender`, `10percentage`, `12percentage`, `CollegeTier`, `Degree`, `collegeGPA`, `CollegeCityTier`, `English`, `Logical`, `Quant`, `Domain` (2 điểm) "
   ]
  },
  {
   "cell_type": "code",
   "execution_count": 380,
   "metadata": {},
   "outputs": [],
   "source": [
    "# Phần code cho yêu cầu 1a\n",
    "lr_1a = OLSLinearRegression().fit(first_11_data_train, y_train.to_numpy())\n",
    "\n",
    "# lr_1a = LinearRegression(fit_intercept=False).fit(first_11_data_train, y_train.to_numpy())\n"
   ]
  },
  {
   "cell_type": "code",
   "execution_count": 383,
   "metadata": {},
   "outputs": [
    {
     "name": "stdout",
     "output_type": "stream",
     "text": [
      "MAE:  104863.77754032997\n",
      "Weights:\n",
      " [[-22756.513]\n",
      " [   804.503]\n",
      " [  1294.655]\n",
      " [-91781.898]\n",
      " [ 23182.389]\n",
      " [  1437.549]\n",
      " [ -8570.662]\n",
      " [   147.858]\n",
      " [   152.888]\n",
      " [   117.222]\n",
      " [ 34552.286]]\n"
     ]
    }
   ],
   "source": [
    "# Gọi hàm MAE (tự cài đặt hoặc từ thư viện) trên tập kiểm tra\n",
    "y_hat = lr_1a.predict(first_11_data_test)\n",
    "\n",
    "#Library\n",
    "# print(\"MAE: \", mean_absolute_error(y_test.to_numpy().reshape(-1, 1), y_hat.reshape(-1, 1)))\n",
    "# print(lr_1a.coef_)\n",
    "# print(lr_1a.intercept_)\n",
    "\n",
    "#Self\n",
    "print(\"MAE: \", mae(y_test.to_numpy().reshape(-1, 1), y_hat.reshape(-1, 1)))\n",
    "np.set_printoptions(suppress=True, precision=3)\n",
    "weights = lr_1a.get_params()\n",
    "print(\"Weights:\\n\", weights.reshape(-1, 1))"
   ]
  },
  {
   "cell_type": "code",
   "execution_count": 382,
   "metadata": {},
   "outputs": [
    {
     "data": {
      "text/markdown": [
       "Công thức hồi quy (phần trọng số làm tròn đến 3 chữ số thập phân, ví dụ 0.012345 $\\to $ 0.012)"
      ],
      "text/plain": [
       "<IPython.core.display.Markdown object>"
      ]
     },
     "metadata": {},
     "output_type": "display_data"
    },
    {
     "data": {
      "text/markdown": [
       "Salary = -22756.513 x Gender + 804.503 x 10percentage + 1294.655 x 12percentage + -91781.898 x CollegeTier + 23182.389 x Degree + 1437.549 x collegeGPA + -8570.662 x CollegeCityTier + 147.858 x English + 152.888 x Logical + 117.222 x Quant + 34552.286 x Domain"
      ],
      "text/plain": [
       "<IPython.core.display.Markdown object>"
      ]
     },
     "metadata": {},
     "output_type": "display_data"
    }
   ],
   "source": [
    "first_11_columns = train.columns[:11].to_numpy()\n",
    "results = zip(first_11_columns, lr_1a.get_params())\n",
    "\n",
    "display(md(\"Công thức hồi quy (phần trọng số làm tròn đến 3 chữ số thập phân, ví dụ 0.012345 $\\\\to $ 0.012)\"))\n",
    "display(md(\"Salary = \" + \" + \".join(f\"{w:.3f} x {f}\" for f, w in results)))"
   ]
  },
  {
   "cell_type": "markdown",
   "metadata": {},
   "source": [
    "# Yêu cầu 1b: Xây dựng mô hình sử dụng duy nhất 1 đặc trưng tính cách với các đặc trưng tính cách gồm `conscientiousness`, `agreeableness`, `extraversion`, `nueroticism`, `openess_to_experience`, tìm mô hình cho kết quả tốt nhất (1 điểm)"
   ]
  },
  {
   "cell_type": "markdown",
   "metadata": {},
   "source": [
    "Lưu ý: khi sử dụng cross-validation, sinh viên cần xáo trộn dữ liệu 1 lần duy nhất và thực hiện trên toàn bộ đặc trưng"
   ]
  },
  {
   "cell_type": "code",
   "execution_count": 247,
   "metadata": {},
   "outputs": [
    {
     "name": "stdout",
     "output_type": "stream",
     "text": [
      "  Mô hình với 1 đặc trưng         MAE\n",
      "0       conscientiousness  306101.810\n",
      "1           agreeableness  300684.269\n",
      "2            extraversion  306958.941\n",
      "3   openess_to_experience  302940.060\n",
      "4             nueroticism  299402.877\n"
     ]
    }
   ],
   "source": [
    "# Phần code cho yêu cầu 1b\n",
    "# Tìm ra đặc trưng tốt nhất\n",
    "# In ra các kết quả cross-validation như yêu cầu\n",
    "train_1b = train\n",
    "train_1b = train_1b.sample(frac=1)\n",
    "X_train_1b = train_1b.loc[:, ['conscientiousness', 'agreeableness', 'extraversion', 'openess_to_experience', 'nueroticism']]\n",
    "y_train_1b = train_1b.iloc[:, -1]\n",
    "kfold = KFold(n_splits=10, shuffle=False)\n",
    "models_train = [X_train_1b.loc[:, 'conscientiousness'].to_numpy().reshape(-1, 1), X_train_1b.loc[:, 'agreeableness'].to_numpy().reshape(-1, 1), X_train_1b.loc[:, 'extraversion'].to_numpy().reshape(-1, 1), X_train_1b.loc[:, 'openess_to_experience'].to_numpy().reshape(-1, 1), X_train_1b.loc[:, 'nueroticism'].to_numpy().reshape(-1, 1)]\n",
    "models_test = [X_test.loc[:, 'conscientiousness'].to_numpy().reshape(-1, 1), X_test.loc[:, 'agreeableness'].to_numpy().reshape(-1, 1), X_test.loc[:, 'extraversion'].to_numpy().reshape(-1, 1), X_test.loc[:, 'openess_to_experience'].to_numpy().reshape(-1, 1), X_test.loc[:, 'nueroticism'].to_numpy().reshape(-1, 1)]\n",
    "\n",
    "average_maes = [np.abs(cross_val_score(LinearRegression(fit_intercept=False), model, y_train_1b, cv=kfold, scoring='neg_mean_absolute_error')).mean() for model in models_train]\n",
    "best_model_index = average_maes.index(min(average_maes))\n",
    "df = pd.DataFrame(list(zip(X_train_1b.columns.to_numpy().flatten(), average_maes)), columns =['Mô hình với 1 đặc trưng', 'MAE'])\n",
    "df['MAE'] = df['MAE'].apply(format_float)\n",
    "print(df)\n",
    "#Nueroticism là đặc trưng tốt nhất"
   ]
  },
  {
   "cell_type": "code",
   "execution_count": 248,
   "metadata": {},
   "outputs": [],
   "source": [
    "# Huấn luyện lại mô hình best_personality_feature_model với đặc trưng tốt nhất trên toàn bộ tập huấn luyện\n",
    "#Nueroticism columns\n",
    "my_best_personality_feature_model = OLSLinearRegression().fit(models_train[best_model_index], y_train_1b)"
   ]
  },
  {
   "cell_type": "code",
   "execution_count": 249,
   "metadata": {},
   "outputs": [
    {
     "name": "stdout",
     "output_type": "stream",
     "text": [
      "MAE:  291019.693226953\n",
      "[-56546.30375318]\n"
     ]
    }
   ],
   "source": [
    "# Gọi hàm MAE (tự cài đặt hoặc từ thư viện) trên tập kiểm tra với mô hình best_personality_feature_model\n",
    "X_Para = models_test[best_model_index]\n",
    "y_hat = my_best_personality_feature_model.predict(X_Para)\n",
    "print(\"MAE: \", mae(y_test, y_hat))\n",
    "print(my_best_personality_feature_model.w)"
   ]
  },
  {
   "cell_type": "code",
   "execution_count": 244,
   "metadata": {},
   "outputs": [
    {
     "data": {
      "text/markdown": [
       "Công thức hồi quy (phần trọng số làm tròn đến 3 chữ số thập phân, ví dụ 0.012345 $\\to $ 0.012)"
      ],
      "text/plain": [
       "<IPython.core.display.Markdown object>"
      ]
     },
     "metadata": {},
     "output_type": "display_data"
    },
    {
     "data": {
      "text/markdown": [
       "Salary = Neuroticism x -56546.304"
      ],
      "text/plain": [
       "<IPython.core.display.Markdown object>"
      ]
     },
     "metadata": {},
     "output_type": "display_data"
    }
   ],
   "source": [
    "display(md(\"Công thức hồi quy (phần trọng số làm tròn đến 3 chữ số thập phân, ví dụ 0.012345 $\\\\to $ 0.012)\"))\n",
    "display(md(\"Salary = Neuroticism x -56546.304\"))"
   ]
  },
  {
   "cell_type": "markdown",
   "metadata": {},
   "source": [
    "Công thức hồi quy (phần trọng số làm tròn đến 3 chữ số thập phân, ví dụ 0.012345 $\\to$ 0.012)\n",
    "\n",
    "$$\\text{Salary} = ...$$"
   ]
  },
  {
   "cell_type": "markdown",
   "metadata": {},
   "source": [
    "# Yêu cầu 1c: Xây dựng mô hình sử dụng duy nhất 1 đặc trưng `English`, `Logical`, `Quant`, tìm mô hình cho kết quả tốt nhất (1 điểm)"
   ]
  },
  {
   "cell_type": "markdown",
   "metadata": {},
   "source": [
    "Lưu ý: khi sử dụng cross-validation, sinh viên cần xáo trộn dữ liệu 1 lần duy nhất và thực hiện trên toàn bộ đặc trưng"
   ]
  },
  {
   "cell_type": "code",
   "execution_count": 252,
   "metadata": {},
   "outputs": [
    {
     "name": "stdout",
     "output_type": "stream",
     "text": [
      "  Mô hình với 1 đặc trưng         MAE\n",
      "0                   Quant  118146.442\n",
      "1                 Logical  120295.723\n",
      "2                 English  121899.734\n"
     ]
    }
   ],
   "source": [
    "# Phần code cho yêu cầu 1c\n",
    "# Tìm ra đặc trưng tốt nhất\n",
    "# In ra các kết quả cross-validation như yêu cầu\n",
    "train_1c = train\n",
    "train_1c = train_1c.sample(frac=1)\n",
    "X_train_1c = train_1c.loc[:, ['Quant', 'Logical',  'English']]\n",
    "y_train_1c = train_1c.iloc[:, -1]\n",
    "kfold = KFold(n_splits=10, shuffle=False)\n",
    "models_train = [X_train_1c.loc[:, 'Quant'].to_numpy().reshape(-1, 1), X_train_1c.loc[:, 'Logical'].to_numpy().reshape(-1, 1), X_train_1c.loc[:, 'English'].to_numpy().reshape(-1, 1)]\n",
    "models_test = [X_test.loc[:, 'Quant'].to_numpy().reshape(-1, 1), X_test.loc[:, 'Logical'].to_numpy().reshape(-1, 1), X_test.loc[:, 'English'].to_numpy().reshape(-1, 1)]\n",
    "\n",
    "average_maes = [np.abs(cross_val_score(LinearRegression(fit_intercept=False), model, y_train_1c, cv=kfold, scoring='neg_mean_absolute_error')).mean() for model in models_train]\n",
    "best_model_index = average_maes.index(min(average_maes))\n",
    "df = pd.DataFrame(list(zip(X_train_1c.columns.to_numpy().flatten(), average_maes)), columns =['Mô hình với 1 đặc trưng', 'MAE'])\n",
    "df['MAE'] = df['MAE'].apply(format_float)\n",
    "print(df)\n",
    "#Quant là đặc trưng tốt nhất"
   ]
  },
  {
   "cell_type": "code",
   "execution_count": 253,
   "metadata": {},
   "outputs": [],
   "source": [
    "# Huấn luyện lại mô hình best_skill_feature_model với đặc trưng tốt nhất trên toàn bộ tập huấn luyện\n",
    "my_best_skill_feature_model = OLSLinearRegression().fit(models_train[best_model_index], y_train_1c)"
   ]
  },
  {
   "cell_type": "code",
   "execution_count": 256,
   "metadata": {},
   "outputs": [
    {
     "name": "stdout",
     "output_type": "stream",
     "text": [
      "MAE:  106819.57761989674\n",
      "[585.89538084]\n"
     ]
    }
   ],
   "source": [
    "# Gọi hàm MAE (tự cài đặt hoặc từ thư viện) trên tập kiểm tra với mô hình best_skill_feature_model\n",
    "X_Para = models_test[best_model_index]\n",
    "y_hat = my_best_skill_feature_model.predict(X_Para)\n",
    "print(\"MAE: \", mae(y_test, y_hat))\n",
    "print(my_best_skill_feature_model.w)"
   ]
  },
  {
   "cell_type": "code",
   "execution_count": null,
   "metadata": {},
   "outputs": [
    {
     "data": {
      "text/markdown": [
       "Công thức hồi quy (phần trọng số làm tròn đến 3 chữ số thập phân, ví dụ 0.012345 $\\to $ 0.012)"
      ],
      "text/plain": [
       "<IPython.core.display.Markdown object>"
      ]
     },
     "metadata": {},
     "output_type": "display_data"
    },
    {
     "data": {
      "text/markdown": [
       "Salary = Quant x 585.895"
      ],
      "text/plain": [
       "<IPython.core.display.Markdown object>"
      ]
     },
     "metadata": {},
     "output_type": "display_data"
    }
   ],
   "source": [
    "display(md(\"Công thức hồi quy (phần trọng số làm tròn đến 3 chữ số thập phân, ví dụ 0.012345 $\\\\to $ 0.012)\"))\n",
    "display(md(\"Salary = Quant x 585.895\"))"
   ]
  },
  {
   "cell_type": "markdown",
   "metadata": {},
   "source": [
    "Công thức hồi quy (phần trọng số làm tròn đến 3 chữ số thập phân, ví dụ 0.012345 $\\to$ 0.012)\n",
    "\n",
    "$$\\text{Salary} = ...$$"
   ]
  },
  {
   "cell_type": "markdown",
   "metadata": {},
   "source": [
    "# Yêu cầu 1d: Sinh viên tự xây dựng mô hình, tìm mô hình cho kết quả tốt nhất (3 điểm)"
   ]
  },
  {
   "cell_type": "markdown",
   "metadata": {},
   "source": [
    "## Tìm mô hình"
   ]
  },
  {
   "cell_type": "markdown",
   "metadata": {},
   "source": [
    "Lưu ý: khi sử dụng cross-validation, sinh viên cần xáo trộn dữ liệu 1 lần duy nhất và thực hiện trên toàn bộ $m$ mô hình mà sinh viên thiết kế"
   ]
  },
  {
   "cell_type": "markdown",
   "metadata": {},
   "source": [
    "Quant (Quantitative) (khả năng định lượng ) là khả năng của 1 người để xử lý và giải quyết dữ liệu \"numerical\" và \"categorical\". Logical là khả năng suy luận dựa trên lý lẽ. Chính vì vậy, 2 đặc trưng này được xem là 1 yếu tố cần thiết cho 1 kỹ sư cho nên em quyết định nhân 2 đặc trưng này với nhau và gọi là \"Analytical\".\\\n",
    "Tiếp theo, em có đặc trưng \"English\". Ngôn ngữ thường được sử dụng bởi các kỹ sư để có thể trao đổi, giải thích các ý tưởng cho nhau là tiếng Anh. Hơn nữa, hầu hết các bài báo cáo học thuật đều được viết bằng tiếng Anh. Thứ hai, tiếng Anh còn giúp bản thân em giao tiếp với những người đến từ những đất nước khác, hoặc những khách hàng tiềm năng, những người ít nhất cũng kì vọng rằng bản thân ta biết nói tiếng Anh một cách chuẩn xác và lưu loát. Chính vì vậy, đây chính là ngôn ngữ quan trọng nhất mà mọi kỹ sư đều cần phải biết. [The importance of using English Language effectively in Engineering](https://www.gloscol.ac.uk/media/996689/the-importance-of-using-english-language-effectively-in-engineering.pdf). [Is knowing good English necessary for engineers?](https://www.quora.com/Is-knowing-good-English-necessary-for-engineers)\\\n",
    "Kế đến, em có 3 tính cách là \"openess to experience\", \"conscientiousness\"và \"agreeableness\". \"Openess to experience\" có thể hiểu sơ là người có tính cách cởi mở. Các đặc điểm của tính cách này là: sự sáng tạo, trí tuệ,... \"conscientiousness\" có thể hiểu sơ là người tận tâm. Tính cách này được thể hiện qua các khía cạnh như: năng lực bản thân, sự ngăn nắp, tính nghiêm túc, thành tích,... \"agreeableness\"có thể hiểu là người dễ hoà thuận, dễ tính. Cả ba tính cách này trông có vẻ là 1 sự kết hợp khá là kì lạ nhưng nếu thiếu 1 trong 3 tính cách này, có thể sự nghiệp kỹ sư của ta có thể không đi xa được. Bởi vì đây là 1 công việc rất cần tới khả năng tự học các kiến thức chuyên sâu, 1 sự quyết tâm và khả năng tự tổ chức của bản thân. Chính vì vậy, nếu không có \"conscientiousness\", một kỹ sư tiềm năng có thể sẽ lạc lối. Trong khi đấy, với \"openess\", điều mà chỉ có thể phát triển hết tiềm năng trong một môi trường đầy sáng tạo mà tính lạ thường hay tính sáng tạo đều rất cần thiết, cũng quan trọng không kém vì 1 kỹ sư mà không dám đổi mới hay khá phá những lĩnh vực khác sẽ không bao giờ đạt được thành tựu gì cả. Tuy nhiên, 2 tính cách trên vẫn có thể sẽ trở nên vô ích khi mà bạn có không có khả năng hoà thuận với những người khác. Các kỹ sư thường sẽ phải làm việc trong một môi trường mà bao gồm rất nhiều cá nhân với những cá tính khác nhau. Tuy nhiên, nói như vậy không có nghĩa là bạn lúc nào cũng phải hoà thuận với người khác. Thỉnh thoảng các kỹ sư cần phải đưa ra những quyết định thông minh, cứng rắn và logic trong nhiều trường hợp, và họ chắc chắn sẽ phải đứng ra lãnh đạo. Chính vì vậy, 3 tính cách nên được gộp thành 1 và được gọi là \"Traits\".[Should I Become an Engineer?](https://www.truity.com/blog/should-i-become-engineer). [Big 5 Personality Là Gì?](https://glints.com/vn/blog/mo-hinh-big-5-personality-la-gi/). [Here's How Your Personality Type May Affect Your Income](https://www.fool.com/the-ascent/banks/articles/heres-how-your-personality-type-may-affect-your-income/)\\\n",
    "Tiếp theo, em sẽ nói đến đặc trưng \"Domain\". Theo cá nhân em, ta không thể nào mong chờ 1 mức lương cao ở 1 công việc mà thậm chí bản thân ta còn không có khả năng để làm.\\\n",
    "Các đặc trưng về học thuật như là \"10percentage\", \"12percentage\" và \"collegeGPA\" sẽ được gộp lại thành 1 đặc trưng mới được gọi là \"academic_performances\" bằng cách lấy trung bình. Để lý giải cho việc này, ta hãy nói đến tính chất công việc của 1 kỹ sư. Để trở thành 1 kỹ sư thành công trong sự nghiệp, trước tiên, họ cần có tính kỷ luật, sự kiên nhẫn và bền bỉ. Ngoài ra, họ còn cần phải có kiến thức chuyên môn vững, khả năng tự học và khả năng thích nghi trước mọi tình huống.\\\n",
    "Đầu tiên, việc duy trì được một GPA ổn định qua nhiều năm có thể được xem như là một điều rất tốt cho 1 kỹ sư tiềm năng. Để làm được như vậy, họ cần phải có tính kỷ luật, sự kiên nhẫn và bền bỉ. Với việc duy trì được một GPA ổn định cũng có thể cho thấy rằng họ có 1 lượng kiến thức ổn định. Tiếp theo, việc học trên trường không phải lúc nào cũng là đủ cả. Để được 1 trung bình ổn định, các kỹ sư cần phải có cho mình một khả năng tự học tốt để tìm kiếm các tài liệu liên quan tới môn học hoặc chuyên ngành. Cuối cùng là khả năng thích nghi, trong 3 đặc trưng trên, ta có thể thấy rõ rệt 2 sự thay đổi rất lớn. Đó là từ lớp 10 lên lớp 12 và từ 12 lên đại học. Rất nhiều người không có khả năng thích nghi khi thay đổi môi trường, ta sẽ có thể thấy sự sụt giảm rõ rệt trong điểm GPA giữa 2 trong 3 đặc trưng.\n",
    "Kế tiếp là đặc trưng \"computerProgramming\". Tất nhiên không phải kỹ sư nào cũng đều cần phải biết lập trình máy tính nhưng việc biết làm có thể hỗ trợ thêm cho công việc của bạn.\\\n",
    "Sau đấy, em sẽ nói đến giới tính. Theo Thống kê Cục điều tra dân số Hoa Kỳ năm 2021, phụ nữ làm việc trong ngành kỹ sư cơ khí có khoảng cách thu nhập nhỏ nhất, nhận được 95% mức lương so với nam trong cùng lĩnh vực trung bình. Trong khi đó, phụ nữ làm kỹ sư xây dựng nhận 85% so với mức lương của nam đồng nghiệp.\\\n",
    "Neuroticism (tính nhạy cảm), một đức tính không tốt đẹp gì cả. Vì đặc thù của công việc kỹ sư rất áp lực nên những người đạt điểm thấp trong neuroticism có nghĩa là họ chịu áp lực rất tốt, có thể giúp ích cho họ trong công việc. Tuy nhiên, nói như vậy không có nghĩa là những người có điểm cao trong neuroticism đều sẽ thất bại trong công việc. "
   ]
  },
  {
   "cell_type": "markdown",
   "metadata": {},
   "source": [
    "Dựa vào những phân tích trên, em đưa ra quyết định rằng Analytical, Traits, English, Domain, academic_performances và ComputerProgramming sẽ là các đặc trưng quan trọng và cần thiết của mỗi kỹ sư.\n",
    "$$\\text{Salary} = \\text{Analytical} \\times x + \\text{Traits} \\times x + \\text{English} \\times x + \\text{Domain} \\times x + \\text{academic\\_performances} \\times x + \\text{ComputerProgramming} \\times x$$\n",
    "Tiếp theo, đặc trưng \"Gender\" cũng sẽ quyết định đến 1 phần lương của các kỹ sư nhưng sẽ không quá nhiều.\n",
    "$$\\text{Salary} = \\text{Analytical} \\times x + \\text{Traits} \\times x + \\text{English} \\times x + \\text{Domain} \\times x + \\text{academic\\_performances} \\times x + \\text{ComputerProgramming} \\times x+ \\text{Gender} \\times x$$\n",
    "Cuối cùng là đặc trưng \"neuroticism\"\n",
    "$$\\text{Salary} = \\text{Analytical} \\times x + \\text{Traits} \\times x + \\text{English} \\times x + \\text{Domain} \\times x + \\text{academic\\_performances} \\times x + \\text{ComputerProgramming} \\times x+ \\text{Gender} \\times x + \\text{Neuroticism} \\times x$$"
   ]
  },
  {
   "cell_type": "markdown",
   "metadata": {},
   "source": [
    "## Thử nghiệm, so sánh các mô hình"
   ]
  },
  {
   "cell_type": "code",
   "execution_count": 402,
   "metadata": {},
   "outputs": [
    {
     "name": "stdout",
     "output_type": "stream",
     "text": [
      "Best model: 4\n"
     ]
    }
   ],
   "source": [
    "# Phần code cho yêu cầu 1d\n",
    "# Tìm ra mô hình tốt nhất (tự thiết kế bởi sinh viên)\n",
    "# In ra các kết quả cross-validation như yêu cầu\n",
    "train_1d = train\n",
    "train_1d = train_1d.sample(frac=1)\n",
    "X_train_1d = train_1d.iloc[:, :-1]    \n",
    "y_train_1d = train_1d.iloc[:, -1]     \n",
    "kfold = KFold(n_splits=10, shuffle=False)\n",
    "\n",
    "analytical = (X_train_1d.loc[:, 'Quant'].to_numpy() * X_train_1d.loc[:, 'Logical'].to_numpy())\n",
    "analytical_test = (X_test.loc[:, 'Quant'].to_numpy() * X_test.loc[:, 'Logical'].to_numpy())\n",
    "\n",
    "traits = X_train_1d.loc[:, 'conscientiousness'].to_numpy() * X_train_1d.loc[:, 'agreeableness'].to_numpy() * X_train_1d.loc[:, 'openess_to_experience'].to_numpy()\n",
    "traits_test = X_test.loc[:, 'conscientiousness'].to_numpy() * X_test.loc[:, 'agreeableness'].to_numpy() * X_test.loc[:, 'openess_to_experience'].to_numpy()\n",
    "\n",
    "academic_performances = (X_train_1d.loc[:, 'collegeGPA'].to_numpy() + X_train_1d.loc[:, '12percentage'].to_numpy() + X_train_1d.loc[:, '10percentage'].to_numpy())/ 3\n",
    "academic_performances_test = (X_test.loc[:, 'collegeGPA'].to_numpy() + X_test.loc[:, '12percentage'].to_numpy() + X_test.loc[:, '10percentage'].to_numpy())/ 3\n",
    "\n",
    "first_model = np.hstack((analytical.reshape(-1, 1), traits.reshape(-1, 1), X_train_1d.loc[:, 'English'].to_numpy().reshape(-1, 1),X_train_1d.loc[:, 'Domain'].to_numpy().reshape(-1, 1), academic_performances.reshape(-1, 1), X_train_1d.loc[:, 'ComputerProgramming'].to_numpy().reshape(-1, 1)))\n",
    "second_model =  np.hstack((analytical.reshape(-1, 1), traits.reshape(-1, 1), X_train_1d.loc[:, 'English'].to_numpy().reshape(-1, 1),X_train_1d.loc[:, 'Domain'].to_numpy().reshape(-1, 1), academic_performances.reshape(-1, 1), X_train_1d.loc[:, 'ComputerProgramming'].to_numpy().reshape(-1, 1),  X_train_1d.loc[:, 'Gender'].to_numpy().reshape(-1, 1)))\n",
    "third_model =  np.hstack((analytical.reshape(-1, 1), traits.reshape(-1, 1), X_train_1d.loc[:, 'English'].to_numpy().reshape(-1, 1),X_train_1d.loc[:, 'Domain'].to_numpy().reshape(-1, 1), academic_performances.reshape(-1, 1), X_train_1d.loc[:, 'ComputerProgramming'].to_numpy().reshape(-1, 1),  X_train_1d.loc[:, 'Gender'].to_numpy().reshape(-1, 1),  X_train_1d.loc[:, 'nueroticism'].to_numpy().reshape(-1, 1)))\n",
    "fourth_model =  np.hstack((analytical.reshape(-1, 1), traits.reshape(-1, 1), X_train_1d.loc[:, 'English'].to_numpy().reshape(-1, 1),X_train_1d.loc[:, 'Domain'].to_numpy().reshape(-1, 1), academic_performances.reshape(-1, 1), X_train_1d.loc[:, 'ComputerProgramming'].to_numpy().reshape(-1, 1),  X_train_1d.loc[:, 'Gender'].to_numpy().reshape(-1, 1),  X_train_1d.loc[:, 'nueroticism'].to_numpy().reshape(-1, 1), X_train_1d.loc[:, 'Degree'].to_numpy().reshape(-1, 1)))\n",
    "\n",
    "first_model_test = np.hstack((analytical_test.reshape(-1, 1), traits_test.reshape(-1, 1), X_test.loc[:, 'English'].to_numpy().reshape(-1, 1),X_test.loc[:, 'Domain'].to_numpy().reshape(-1, 1), academic_performances_test.reshape(-1, 1), X_test.loc[:, 'ComputerProgramming'].to_numpy().reshape(-1, 1)))\n",
    "second_model_test =  np.hstack((analytical_test.reshape(-1, 1), traits_test.reshape(-1, 1), X_test.loc[:, 'English'].to_numpy().reshape(-1, 1), X_test.loc[:, 'Domain'].to_numpy().reshape(-1, 1), academic_performances_test.reshape(-1, 1), X_test.loc[:, 'ComputerProgramming'].to_numpy().reshape(-1, 1), X_test.loc[:, 'Gender'].to_numpy().reshape(-1, 1)))\n",
    "third_model_test =  np.hstack((analytical_test.reshape(-1, 1), traits_test.reshape(-1, 1), X_test.loc[:, 'English'].to_numpy().reshape(-1, 1), X_test.loc[:, 'Domain'].to_numpy().reshape(-1, 1), academic_performances_test.reshape(-1, 1), X_test.loc[:, 'ComputerProgramming'].to_numpy().reshape(-1, 1), X_test.loc[:, 'Gender'].to_numpy().reshape(-1, 1), X_test.loc[:, 'nueroticism'].to_numpy().reshape(-1, 1)))\n",
    "fourth_model_test =  np.hstack((analytical_test.reshape(-1, 1), traits_test.reshape(-1, 1), X_test.loc[:, 'English'].to_numpy().reshape(-1, 1), X_test.loc[:, 'Domain'].to_numpy().reshape(-1, 1), academic_performances_test.reshape(-1, 1), X_test.loc[:, 'ComputerProgramming'].to_numpy().reshape(-1, 1), X_test.loc[:, 'Gender'].to_numpy().reshape(-1, 1), X_test.loc[:, 'nueroticism'].to_numpy().reshape(-1, 1), X_test.loc[:, 'Degree'].to_numpy().reshape(-1, 1)))   \n",
    "\n",
    "models_train = [first_model, second_model, third_model, fourth_model]\n",
    "models_test = [first_model_test, second_model_test, third_model_test, fourth_model_test]\n",
    "average_maes = [np.abs(cross_val_score(LinearRegression(fit_intercept=False), model, y_train, cv=kfold, scoring='neg_mean_absolute_error')).mean() for model in models_train]\n",
    "best_model_index = average_maes.index(min(average_maes))\n",
    "print(\"Best model:\", best_model_index + 1)"
   ]
  },
  {
   "cell_type": "code",
   "execution_count": 403,
   "metadata": {},
   "outputs": [],
   "source": [
    "# Huấn luyện lại mô hình my_best_model trên toàn bộ tập huấn luyện\n",
    "my_best_model = OLSLinearRegression().fit(models_train[best_model_index], y_train)\n",
    "\n"
   ]
  },
  {
   "cell_type": "code",
   "execution_count": 404,
   "metadata": {},
   "outputs": [
    {
     "name": "stdout",
     "output_type": "stream",
     "text": [
      "MAE trên tập kiểm tra: 113035.8690265365\n"
     ]
    }
   ],
   "source": [
    "# Gọi hàm MAE (tự cài đặt hoặc từ thư viện) trên tập kiểm tra với mô hình my_best_model\n",
    "X_para = models_test[best_model_index]\n",
    "y_hat1 = my_best_model.predict(X_para)\n",
    "print('MAE trên tập kiểm tra:', mae(y_test, y_hat1))"
   ]
  },
  {
   "cell_type": "markdown",
   "metadata": {},
   "source": [
    "Công thức hồi quy (phần trọng số làm tròn đến 3 chữ số thập phân, ví dụ 0.012345 $\\to$ 0.012)\n",
    "\n",
    "$$\\text{Salary} = ...$$"
   ]
  }
 ],
 "metadata": {
  "kernelspec": {
   "display_name": "Python 3.8.5 ('base')",
   "language": "python",
   "name": "python3"
  },
  "language_info": {
   "codemirror_mode": {
    "name": "ipython",
    "version": 3
   },
   "file_extension": ".py",
   "mimetype": "text/x-python",
   "name": "python",
   "nbconvert_exporter": "python",
   "pygments_lexer": "ipython3",
   "version": "3.11.3"
  },
  "orig_nbformat": 4,
  "vscode": {
   "interpreter": {
    "hash": "15af99fd1a1a3f0a3416ea421564e792a8676a13670c2eed127d89ab0518a27b"
   }
  }
 },
 "nbformat": 4,
 "nbformat_minor": 2
}
