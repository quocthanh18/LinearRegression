{
 "cells": [
  {
   "cell_type": "markdown",
   "metadata": {},
   "source": [
    "# <center>Đồ án 3: Linear Regression</center>"
   ]
  },
  {
   "cell_type": "markdown",
   "metadata": {},
   "source": [
    "# Thông tin sinh viên\n",
    "\n",
    "- Họ và tên: Phạm Nguyễn Quốc Thanh\n",
    "- MSSV: 21127428\n",
    "- Lớp: 21CLC08"
   ]
  },
  {
   "cell_type": "markdown",
   "metadata": {},
   "source": [
    "# Import"
   ]
  },
  {
   "cell_type": "code",
   "execution_count": 1,
   "metadata": {},
   "outputs": [],
   "source": [
    "import pandas as pd\n",
    "import numpy as np\n",
    "from IPython.display import Markdown as md\n",
    "from sklearn.model_selection import cross_val_score, KFold\n",
    "from sklearn.linear_model import LinearRegression\n",
    "from sklearn.metrics import mean_absolute_error\n",
    "# Import thêm dữ thư viện nếu cần\n",
    "#1: Male\n",
    "#2: Female"
   ]
  },
  {
   "cell_type": "markdown",
   "metadata": {},
   "source": [
    "# Đọc dữ liệu"
   ]
  },
  {
   "cell_type": "code",
   "execution_count": 2,
   "metadata": {},
   "outputs": [],
   "source": [
    "# Đọc dữ liệu bằng pandas\n",
    "train = pd.read_csv('train.csv')\n",
    "test = pd.read_csv('test.csv')\n",
    "\n",
    "# Lấy các đặc trưng X và giá trị mục tiêu y cho các tập huấn luyện (train) và kiểm tra (test)\n",
    "X_train = train.iloc[:, :-1]    # Dataframe (chứa 10 đặc trưng huấn luyện)\n",
    "y_train = train.iloc[:, -1]     # Series    (chứa 1 giá trị mục tiêu kiểm tra)\n",
    "X_test = test.iloc[:, :-1]      # Dataframe (chứa 10 đặc trưng kiểm tra)\n",
    "y_test = test.iloc[:, -1]       # Series    (chứa 1 giá trị mục tiêu kiểm tra)\n",
    "first_11_data_train = train.iloc[:, :11].to_numpy()\n",
    "first_11_data_test = test.iloc[:, :11].to_numpy()\n",
    "# Sinh viên có thể sử dụng các khác nếu cần"
   ]
  },
  {
   "cell_type": "markdown",
   "metadata": {},
   "source": [
    "# Cài đặt hàm"
   ]
  },
  {
   "cell_type": "code",
   "execution_count": 3,
   "metadata": {},
   "outputs": [],
   "source": [
    "# Cài đặt các hàm cần thiết ở đây\n",
    "class OLSLinearRegression:\n",
    "    def fit(self, X, y):\n",
    "        X_pinv = np.linalg.inv(X.T @ X) @ X.T    # np.linalg.pinv(X)\n",
    "        self.w = X_pinv @ y\n",
    "\n",
    "        return self\n",
    "\n",
    "\n",
    "    def get_params(self):\n",
    "        return self.w\n",
    "\n",
    "\n",
    "    def predict(self, X):\n",
    "        return np.sum(self.w.ravel() * X, axis=1)\n",
    "\n",
    "def mae(y, y_hat):\n",
    "    return np.mean(np.abs(y.ravel() - y_hat.ravel())) \n",
    "\n",
    "def format_float(x):\n",
    "    return '{:.3f}'.format(x)"
   ]
  },
  {
   "cell_type": "markdown",
   "metadata": {},
   "source": [
    "# Yêu cầu 1a: Sử dụng toàn bộ 11 đặc trưng đầu tiên `Gender`, `10percentage`, `12percentage`, `CollegeTier`, `Degree`, `collegeGPA`, `CollegeCityTier`, `English`, `Logical`, `Quant`, `Domain` (2 điểm) "
   ]
  },
  {
   "cell_type": "code",
   "execution_count": 4,
   "metadata": {},
   "outputs": [],
   "source": [
    "# Phần code cho yêu cầu 1a\n",
    "# lr_1a = OLSLinearRegression().fit(first_11_data_train, y_train)\n",
    "\n",
    "# Phần code thử nghiệm cho yêu cầu 1a\n",
    "train_1a = train.sample(frac=1)\n",
    "X_train_1a = train_1a.iloc[:, :-1]\n",
    "y_train_1a = train_1a.iloc[:, -1]\n",
    "X_test_1a = test.iloc[:, :-1]\n",
    "y_test_1a = test.iloc[:, -1]\n",
    "lr_1a_trial = OLSLinearRegression().fit(X_train, y_train)\n",
    "\n",
    "\n",
    "# lr_1a = LinearRegression(fit_intercept=False).fit(first_11_data_train, y_train.to_numpy())\n"
   ]
  },
  {
   "cell_type": "code",
   "execution_count": 5,
   "metadata": {},
   "outputs": [
    {
     "name": "stdout",
     "output_type": "stream",
     "text": [
      "MAE trên tập kiểm tra:  101872.21056619247\n",
      "Weights:\n",
      " 0    -23874.541726\n",
      "1       898.575621\n",
      "2      1203.496112\n",
      "3    -83592.387591\n",
      "4     11515.430757\n",
      "5      1626.518605\n",
      "6     -5717.733852\n",
      "7       153.434567\n",
      "8       120.511333\n",
      "9       102.580853\n",
      "10    27939.639602\n",
      "11       76.730246\n",
      "12      -47.746793\n",
      "13     -177.387649\n",
      "14       33.932559\n",
      "15     -151.471153\n",
      "16      -64.197706\n",
      "17      145.894996\n",
      "18   -19814.830268\n",
      "19    15503.266941\n",
      "20     4908.582006\n",
      "21   -10661.029100\n",
      "22    -5815.021280\n",
      "dtype: float64\n"
     ]
    }
   ],
   "source": [
    "# Gọi hàm MAE (tự cài đặt hoặc từ thư viện) trên tập kiểm tra\n",
    "y_hat = lr_1a_trial.predict(X_test)\n",
    "\n",
    "#Library\n",
    "# print(\"MAE: \", mean_absolute_error(y_test.to_numpy().reshape(-1, 1), y_hat.reshape(-1, 1)))\n",
    "# print(lr_1a.coef_)\n",
    "# print(lr_1a.intercept_)\n",
    "\n",
    "#Self\n",
    "print(\"MAE trên tập kiểm tra: \", mae(y_test.to_numpy().reshape(-1, 1), y_hat))\n",
    "np.set_printoptions(suppress=True, precision=3)\n",
    "weights = lr_1a_trial.get_params()\n",
    "print(\"Weights:\\n\", weights)"
   ]
  },
  {
   "cell_type": "code",
   "execution_count": 6,
   "metadata": {},
   "outputs": [
    {
     "data": {
      "text/markdown": [
       "Công thức hồi quy (phần trọng số làm tròn đến 3 chữ số thập phân, ví dụ 0.012345 $\\to $ 0.012)"
      ],
      "text/plain": [
       "<IPython.core.display.Markdown object>"
      ]
     },
     "metadata": {},
     "output_type": "display_data"
    },
    {
     "data": {
      "text/markdown": [
       "Salary = -23874.542 x Gender + 898.576 x 10percentage + 1203.496 x 12percentage + -83592.388 x CollegeTier + 11515.431 x Degree + 1626.519 x collegeGPA + -5717.734 x CollegeCityTier + 153.435 x English + 120.511 x Logical + 102.581 x Quant + 27939.640 x Domain + 76.730 x ComputerProgramming + -47.747 x ElectronicsAndSemicon + -177.388 x ComputerScience + 33.933 x MechanicalEngg + -151.471 x ElectricalEngg + -64.198 x TelecomEngg + 145.895 x CivilEngg + -19814.830 x conscientiousness + 15503.267 x agreeableness + 4908.582 x extraversion + -10661.029 x nueroticism + -5815.021 x openess_to_experience"
      ],
      "text/plain": [
       "<IPython.core.display.Markdown object>"
      ]
     },
     "metadata": {},
     "output_type": "display_data"
    }
   ],
   "source": [
    "first_11_columns = train.columns[:-1].to_numpy()\n",
    "results = zip(first_11_columns, lr_1a_trial.get_params())\n",
    "\n",
    "display(md(\"Công thức hồi quy (phần trọng số làm tròn đến 3 chữ số thập phân, ví dụ 0.012345 $\\\\to $ 0.012)\"))\n",
    "display(md(\"Salary = \" + \" + \".join(f\"{w:.3f} x {f}\" for f, w in results)))"
   ]
  },
  {
   "cell_type": "markdown",
   "metadata": {},
   "source": [
    "# Yêu cầu 1b: Xây dựng mô hình sử dụng duy nhất 1 đặc trưng tính cách với các đặc trưng tính cách gồm `conscientiousness`, `agreeableness`, `extraversion`, `nueroticism`, `openess_to_experience`, tìm mô hình cho kết quả tốt nhất (1 điểm)"
   ]
  },
  {
   "cell_type": "markdown",
   "metadata": {},
   "source": [
    "Lưu ý: khi sử dụng cross-validation, sinh viên cần xáo trộn dữ liệu 1 lần duy nhất và thực hiện trên toàn bộ đặc trưng"
   ]
  },
  {
   "cell_type": "code",
   "execution_count": 7,
   "metadata": {},
   "outputs": [
    {
     "name": "stdout",
     "output_type": "stream",
     "text": [
      "  Mô hình với 1 đặc trưng         MAE\n",
      "0       conscientiousness  306073.402\n",
      "1           agreeableness  300799.399\n",
      "2            extraversion  307045.308\n",
      "3   openess_to_experience  303110.137\n",
      "4             nueroticism  299273.589\n"
     ]
    }
   ],
   "source": [
    "# Phần code cho yêu cầu 1b\n",
    "# Tìm ra đặc trưng tốt nhất\n",
    "# In ra các kết quả cross-validation như yêu cầu\n",
    "train_1b = train\n",
    "train_1b = train_1b.sample(frac=1)\n",
    "y_train_1b = train_1b.iloc[:, -1]\n",
    "kfold = KFold(n_splits=10, shuffle=False)\n",
    "models_train = [train_1b.loc[:, 'conscientiousness'].to_numpy().reshape(-1, 1), train_1b.loc[:, 'agreeableness'].to_numpy().reshape(-1, 1), train_1b.loc[:, 'extraversion'].to_numpy().reshape(-1, 1), train_1b.loc[:, 'openess_to_experience'].to_numpy().reshape(-1, 1), train_1b.loc[:, 'nueroticism'].to_numpy().reshape(-1, 1)]\n",
    "models_test = [X_test.loc[:, 'conscientiousness'].to_numpy().reshape(-1, 1), X_test.loc[:, 'agreeableness'].to_numpy().reshape(-1, 1), X_test.loc[:, 'extraversion'].to_numpy().reshape(-1, 1), X_test.loc[:, 'openess_to_experience'].to_numpy().reshape(-1, 1), X_test.loc[:, 'nueroticism'].to_numpy().reshape(-1, 1)]\n",
    "models_name = ['conscientiousness', 'agreeableness', 'extraversion', 'openess_to_experience', 'nueroticism']\n",
    "average_maes = [np.abs(cross_val_score(LinearRegression(fit_intercept=False), model, y_train_1b, cv=kfold, scoring='neg_mean_absolute_error')).mean() for model in models_train]\n",
    "best_model_index = average_maes.index(min(average_maes))\n",
    "df = pd.DataFrame(list(zip(models_name, average_maes)), columns =['Mô hình với 1 đặc trưng', 'MAE'])\n",
    "df['MAE'] = df['MAE'].apply(format_float)\n",
    "print(df)\n",
    "#Nueroticism là đặc trưng tốt nhất"
   ]
  },
  {
   "cell_type": "code",
   "execution_count": 8,
   "metadata": {},
   "outputs": [],
   "source": [
    "# Huấn luyện lại mô hình best_personality_feature_model với đặc trưng tốt nhất trên toàn bộ tập huấn luyện\n",
    "#Nueroticism columns\n",
    "my_best_personality_feature_model = OLSLinearRegression().fit(models_train[best_model_index], y_train_1b)"
   ]
  },
  {
   "cell_type": "code",
   "execution_count": 9,
   "metadata": {},
   "outputs": [
    {
     "name": "stdout",
     "output_type": "stream",
     "text": [
      "MAE trên tập kiểm tra:  291019.693226953\n",
      "[-56546.304]\n"
     ]
    }
   ],
   "source": [
    "# Gọi hàm MAE (tự cài đặt hoặc từ thư viện) trên tập kiểm tra với mô hình best_personality_feature_model\n",
    "X_Para = models_test[best_model_index]\n",
    "y_hat = my_best_personality_feature_model.predict(X_Para)\n",
    "print(\"MAE trên tập kiểm tra: \", mae(y_test, y_hat))\n",
    "print(my_best_personality_feature_model.w)"
   ]
  },
  {
   "cell_type": "code",
   "execution_count": 10,
   "metadata": {},
   "outputs": [
    {
     "data": {
      "text/markdown": [
       "Công thức hồi quy (phần trọng số làm tròn đến 3 chữ số thập phân, ví dụ 0.012345 $\\to $ 0.012)"
      ],
      "text/plain": [
       "<IPython.core.display.Markdown object>"
      ]
     },
     "metadata": {},
     "output_type": "display_data"
    },
    {
     "data": {
      "text/markdown": [
       "Salary = Neuroticism x -56546.304"
      ],
      "text/plain": [
       "<IPython.core.display.Markdown object>"
      ]
     },
     "metadata": {},
     "output_type": "display_data"
    }
   ],
   "source": [
    "display(md(\"Công thức hồi quy (phần trọng số làm tròn đến 3 chữ số thập phân, ví dụ 0.012345 $\\\\to $ 0.012)\"))\n",
    "display(md(\"Salary = Neuroticism x -56546.304\"))"
   ]
  },
  {
   "cell_type": "markdown",
   "metadata": {},
   "source": [
    "Công thức hồi quy (phần trọng số làm tròn đến 3 chữ số thập phân, ví dụ 0.012345 $\\to$ 0.012)\n",
    "\n",
    "$$\\text{Salary} = ...$$"
   ]
  },
  {
   "cell_type": "markdown",
   "metadata": {},
   "source": [
    "# Yêu cầu 1c: Xây dựng mô hình sử dụng duy nhất 1 đặc trưng `English`, `Logical`, `Quant`, tìm mô hình cho kết quả tốt nhất (1 điểm)"
   ]
  },
  {
   "cell_type": "markdown",
   "metadata": {},
   "source": [
    "Lưu ý: khi sử dụng cross-validation, sinh viên cần xáo trộn dữ liệu 1 lần duy nhất và thực hiện trên toàn bộ đặc trưng"
   ]
  },
  {
   "cell_type": "code",
   "execution_count": 11,
   "metadata": {},
   "outputs": [
    {
     "name": "stdout",
     "output_type": "stream",
     "text": [
      "  Mô hình với 1 đặc trưng         MAE\n",
      "0                   Quant  118113.925\n",
      "1                 Logical  120309.790\n",
      "2                 English  121927.318\n"
     ]
    }
   ],
   "source": [
    "# Phần code cho yêu cầu 1c\n",
    "# Tìm ra đặc trưng tốt nhất\n",
    "# In ra các kết quả cross-validation như yêu cầu\n",
    "train_1c = train\n",
    "train_1c = train_1c.sample(frac=1)\n",
    "X_train_1c = train_1c.loc[:, ['Quant', 'Logical',  'English']]\n",
    "y_train_1c = train_1c.iloc[:, -1]\n",
    "kfold = KFold(n_splits=10, shuffle=False)\n",
    "models_train = [X_train_1c.loc[:, 'Quant'].to_numpy().reshape(-1, 1), X_train_1c.loc[:, 'Logical'].to_numpy().reshape(-1, 1), X_train_1c.loc[:, 'English'].to_numpy().reshape(-1, 1)]\n",
    "models_test = [X_test.loc[:, 'Quant'].to_numpy().reshape(-1, 1), X_test.loc[:, 'Logical'].to_numpy().reshape(-1, 1), X_test.loc[:, 'English'].to_numpy().reshape(-1, 1)]\n",
    "\n",
    "average_maes = [np.abs(cross_val_score(LinearRegression(fit_intercept=False), model, y_train_1c, cv=kfold, scoring='neg_mean_absolute_error')).mean() for model in models_train]\n",
    "best_model_index = average_maes.index(min(average_maes))\n",
    "df = pd.DataFrame(list(zip(X_train_1c.columns.to_numpy().flatten(), average_maes)), columns =['Mô hình với 1 đặc trưng', 'MAE'])\n",
    "df['MAE'] = df['MAE'].apply(format_float)\n",
    "print(df)\n",
    "#Quant là đặc trưng tốt nhất"
   ]
  },
  {
   "cell_type": "code",
   "execution_count": 12,
   "metadata": {},
   "outputs": [],
   "source": [
    "# Huấn luyện lại mô hình best_skill_feature_model với đặc trưng tốt nhất trên toàn bộ tập huấn luyện\n",
    "my_best_skill_feature_model = OLSLinearRegression().fit(models_train[best_model_index], y_train_1c)"
   ]
  },
  {
   "cell_type": "code",
   "execution_count": 13,
   "metadata": {},
   "outputs": [
    {
     "name": "stdout",
     "output_type": "stream",
     "text": [
      "MAE trên tập kiểm tra:  106819.57761989675\n",
      "[585.895]\n"
     ]
    }
   ],
   "source": [
    "# Gọi hàm MAE (tự cài đặt hoặc từ thư viện) trên tập kiểm tra với mô hình best_skill_feature_model\n",
    "X_Para = models_test[best_model_index]\n",
    "y_hat = my_best_skill_feature_model.predict(X_Para)\n",
    "print(\"MAE trên tập kiểm tra: \", mae(y_test, y_hat))\n",
    "print(my_best_skill_feature_model.w)"
   ]
  },
  {
   "cell_type": "code",
   "execution_count": 14,
   "metadata": {},
   "outputs": [
    {
     "data": {
      "text/markdown": [
       "Công thức hồi quy (phần trọng số làm tròn đến 3 chữ số thập phân, ví dụ 0.012345 $\\to $ 0.012)"
      ],
      "text/plain": [
       "<IPython.core.display.Markdown object>"
      ]
     },
     "metadata": {},
     "output_type": "display_data"
    },
    {
     "data": {
      "text/markdown": [
       "Salary = Quant x 585.895"
      ],
      "text/plain": [
       "<IPython.core.display.Markdown object>"
      ]
     },
     "metadata": {},
     "output_type": "display_data"
    }
   ],
   "source": [
    "display(md(\"Công thức hồi quy (phần trọng số làm tròn đến 3 chữ số thập phân, ví dụ 0.012345 $\\\\to $ 0.012)\"))\n",
    "display(md(\"Salary = Quant x 585.895\"))"
   ]
  },
  {
   "cell_type": "markdown",
   "metadata": {},
   "source": [
    "Công thức hồi quy (phần trọng số làm tròn đến 3 chữ số thập phân, ví dụ 0.012345 $\\to$ 0.012)\n",
    "\n",
    "$$\\text{Salary} = ...$$"
   ]
  },
  {
   "cell_type": "markdown",
   "metadata": {},
   "source": [
    "# Yêu cầu 1d: Sinh viên tự xây dựng mô hình, tìm mô hình cho kết quả tốt nhất (3 điểm)"
   ]
  },
  {
   "cell_type": "markdown",
   "metadata": {},
   "source": [
    "## Tìm mô hình"
   ]
  },
  {
   "cell_type": "markdown",
   "metadata": {},
   "source": [
    "Lưu ý: khi sử dụng cross-validation, sinh viên cần xáo trộn dữ liệu 1 lần duy nhất và thực hiện trên toàn bộ $m$ mô hình mà sinh viên thiết kế"
   ]
  },
  {
   "cell_type": "markdown",
   "metadata": {},
   "source": [
    "Quant (Quantitative) (khả năng định lượng ) là khả năng của 1 người để xử lý và giải quyết dữ liệu \"numerical\" và \"categorical\". Logical là khả năng suy luận dựa trên lý lẽ. Chính vì vậy, 2 đặc trưng này được xem là 1 yếu tố cần thiết cho 1 kỹ sư cho nên em quyết định nhân 2 đặc trưng này với nhau và gọi là \"Analytical\".\\\n",
    "Tiếp theo, em có đặc trưng \"English\". Ngôn ngữ thường được sử dụng bởi các kỹ sư để có thể trao đổi, giải thích các ý tưởng cho nhau là tiếng Anh. Hơn nữa, hầu hết các bài báo cáo học thuật đều được viết bằng tiếng Anh. Thứ hai, tiếng Anh còn giúp bản thân em giao tiếp với những người đến từ những đất nước khác, hoặc những khách hàng tiềm năng, những người ít nhất cũng kì vọng rằng bản thân ta biết nói tiếng Anh một cách chuẩn xác và lưu loát. Chính vì vậy, đây chính là ngôn ngữ quan trọng nhất mà mọi kỹ sư đều cần phải biết. [The importance of using English Language effectively in Engineering](https://www.gloscol.ac.uk/media/996689/the-importance-of-using-english-language-effectively-in-engineering.pdf). [Is knowing good English necessary for engineers?](https://www.quora.com/Is-knowing-good-English-necessary-for-engineers)\\\n",
    "Kế đến, em có 3 tính cách là \"openess to experience\", \"conscientiousness\"và \"agreeableness\". \"Openess to experience\" có thể hiểu sơ là người có tính cách cởi mở. Các đặc điểm của tính cách này là: sự sáng tạo, trí tuệ,... \"conscientiousness\" có thể hiểu sơ là người tận tâm. Tính cách này được thể hiện qua các khía cạnh như: năng lực bản thân, sự ngăn nắp, tính nghiêm túc, thành tích,... \"agreeableness\"có thể hiểu là người dễ hoà thuận, dễ tính. Cả ba tính cách này trông có vẻ là 1 sự kết hợp khá là kì lạ nhưng nếu thiếu 1 trong 3 tính cách này, có thể sự nghiệp kỹ sư của ta có thể không đi xa được. Bởi vì đây là 1 công việc rất cần tới khả năng tự học các kiến thức chuyên sâu, 1 sự quyết tâm và khả năng tự tổ chức của bản thân. Chính vì vậy, nếu không có \"conscientiousness\", một kỹ sư tiềm năng có thể sẽ lạc lối. Trong khi đấy, với \"openess\", điều mà chỉ có thể phát triển hết tiềm năng trong một môi trường đầy sáng tạo mà tính lạ thường hay tính sáng tạo đều rất cần thiết, cũng quan trọng không kém vì 1 kỹ sư mà không dám đổi mới hay khá phá những lĩnh vực khác sẽ không bao giờ đạt được thành tựu gì cả. Tuy nhiên, 2 tính cách trên vẫn có thể sẽ trở nên vô ích khi mà bạn có không có khả năng hoà thuận với những người khác. Các kỹ sư thường sẽ phải làm việc trong một môi trường mà bao gồm rất nhiều cá nhân với những cá tính khác nhau. Tuy nhiên, nói như vậy không có nghĩa là bạn lúc nào cũng phải hoà thuận với người khác. Thỉnh thoảng các kỹ sư cần phải đưa ra những quyết định thông minh, cứng rắn và logic trong nhiều trường hợp, và họ chắc chắn sẽ phải đứng ra lãnh đạo. Chính vì vậy, 3 tính cách nên được gộp thành 1 và được gọi là \"Traits\".[Should I Become an Engineer?](https://www.truity.com/blog/should-i-become-engineer). [Big 5 Personality Là Gì?](https://glints.com/vn/blog/mo-hinh-big-5-personality-la-gi/). [Here's How Your Personality Type May Affect Your Income](https://www.fool.com/the-ascent/banks/articles/heres-how-your-personality-type-may-affect-your-income/)\\\n",
    "Tiếp theo, em sẽ nói đến đặc trưng \"Domain\". Theo cá nhân em, ta không thể nào mong chờ 1 mức lương cao ở 1 công việc mà thậm chí bản thân ta còn không có khả năng để làm.\\\n",
    "Các đặc trưng về học thuật như là \"10percentage\", \"12percentage\" và \"collegeGPA\" sẽ được gộp lại thành 1 đặc trưng mới được gọi là \"academic_performances\" bằng cách lấy trung bình. Để lý giải cho việc này, ta hãy nói đến tính chất công việc của 1 kỹ sư. Để trở thành 1 kỹ sư thành công trong sự nghiệp, trước tiên, họ cần có tính kỷ luật, sự kiên nhẫn và bền bỉ. Ngoài ra, họ còn cần phải có kiến thức chuyên môn vững, khả năng tự học và khả năng thích nghi trước mọi tình huống.\\\n",
    "Đầu tiên, việc duy trì được một GPA ổn định qua nhiều năm có thể được xem như là một điều rất tốt cho 1 kỹ sư tiềm năng. Để làm được như vậy, họ cần phải có tính kỷ luật, sự kiên nhẫn và bền bỉ. Với việc duy trì được một GPA ổn định cũng có thể cho thấy rằng họ có 1 lượng kiến thức ổn định. Tiếp theo, việc học trên trường không phải lúc nào cũng là đủ cả. Để được 1 trung bình ổn định, các kỹ sư cần phải có cho mình một khả năng tự học tốt để tìm kiếm các tài liệu liên quan tới môn học hoặc chuyên ngành. Cuối cùng là khả năng thích nghi, trong 3 đặc trưng trên, ta có thể thấy rõ rệt 2 sự thay đổi rất lớn. Đó là từ lớp 10 lên lớp 12 và từ 12 lên đại học. Rất nhiều người không có khả năng thích nghi khi thay đổi môi trường, ta sẽ có thể thấy sự sụt giảm rõ rệt trong điểm GPA giữa 2 trong 3 đặc trưng.\n",
    "Kế tiếp là đặc trưng \"computerProgramming\". Tất nhiên không phải kỹ sư nào cũng đều cần phải biết lập trình máy tính nhưng việc biết làm có thể hỗ trợ thêm cho công việc của bạn.\\\n",
    "Sau đấy, em sẽ nói đến giới tính. Theo Thống kê Cục điều tra dân số Hoa Kỳ năm 2021, phụ nữ làm việc trong ngành kỹ sư cơ khí có khoảng cách thu nhập nhỏ nhất, nhận được 95% mức lương so với nam trong cùng lĩnh vực. Trong khi đó, phụ nữ làm kỹ sư xây dựng nhận 85% so với mức lương của nam đồng nghiệp.\\\n",
    "Neuroticism (tính nhạy cảm), một đức tính không tốt đẹp gì cả. Vì đặc thù của công việc kỹ sư rất áp lực nên những người đạt điểm thấp trong neuroticism có nghĩa là họ chịu áp lực rất tốt, có thể giúp ích cho họ trong công việc. Tuy nhiên, nói như vậy không có nghĩa là những người có điểm cao trong neuroticism đều sẽ thất bại trong công việc.\\\n",
    "Về bằng cấp, lương trung bình của kỹ sư bằng cử nhân cao hơn lương của những kỹ sư bằng thạc sĩ."
   ]
  },
  {
   "cell_type": "markdown",
   "metadata": {},
   "source": [
    "Dựa vào những phân tích trên, em đưa ra quyết định rằng Analytical, Traits, English, Domain, academic_performances và ComputerProgramming sẽ là các đặc trưng quan trọng và cần thiết của mỗi kỹ sư.\\\n",
    "Theo em, với những đặc trưng trên, em sẽ kết hợp với những đặc trưng khác để tạo ra 3 mô hình:\n",
    "$$\\text{Salary} = \\text{Analytical} \\times x + \\text{Traits} \\times x + \\text{English} \\times x + \\text{Domain} \\times x + \\text{academic\\_performances} \\times x + \\text{ComputerProgramming} \\times x + + \\text{Gender} \\times x + \\\\ \\text{neuroticism} \\times x + \\text{Degree} \\times x $$\n",
    "$$\\text{Salary} = \\text{Analytical} \\times x + \\text{Traits} \\times x + \\text{English} \\times x + \\text{Domain} \\times x + \\text{academic\\_performances} \\times x + \\text{ComputerProgramming} \\times x + + \\text{Gender} \\times x + \\\\ \\text{neuroticism} \\times x + \\text{extraversion} \\times x + \\text{Degree} \\times x $$\n",
    "$$\\text{Salary} = \\text{Analytical} \\times x + \\text{Traits} \\times x + \\text{English} \\times x + \\text{Domain} \\times x + \\text{academic\\_performances} \\times x + \\text{ComputerProgramming} \\times x + + \\text{Gender} \\times x + \\\\ \\text{neuroticism} \\times \\text{extraversion} \\times x + \\text{Degree} \\times x $$"
   ]
  },
  {
   "cell_type": "code",
   "execution_count": 15,
   "metadata": {},
   "outputs": [
    {
     "name": "stdout",
     "output_type": "stream",
     "text": [
      "MAE:  106819.57761989675\n"
     ]
    }
   ],
   "source": [
    "# Trình bày các phần tìm ra mô hình\n",
    "train_1d = train.sample(frac=1)\n",
    "X_train = train_1d.iloc[:, :-1]\n",
    "y_train = train_1d.iloc[:, -1]\n",
    "# features = np.hsplit(X_train, X_train.shape[1])\n",
    "# second_model = X_train\n",
    "# average_maes = np.zeros(24)\n",
    "# average_maes = [np.abs(cross_val_score(LinearRegression(), model, y_train, cv=10, scoring='neg_mean_absolute_error').mean()) for model in features]\n",
    "# temp = np.abs(cross_val_score(LinearRegression(), second_model, y_train, cv=10, scoring='neg_mean_absolute_error').mean())\n",
    "# data = []\n",
    "# for i in range(23):\n",
    "#     row = []\n",
    "#     row.append(X_train.columns[i])\n",
    "#     row.append(average_maes[i])\n",
    "#     data.append(row)\n",
    "# df = pd.DataFrame(data, columns=['Feature', 'MAE'])\n",
    "# df.sort_values(by=['MAE'], ascending=True, inplace=True)\n",
    "\n",
    "# neuroticism = OLSLinearRegression().fit(X_train.loc[:, 'nueroticism'].to_numpy().reshape(-1, 1), y_train.to_numpy().reshape(-1, 1))\n",
    "# y_hat = neuroticism.predict(X_test.loc[:, 'nueroticism'])\n",
    "print('MAE: ', mae(y_test, y_hat))\n",
    "# print(temp)\n",
    "                      "
   ]
  },
  {
   "cell_type": "markdown",
   "metadata": {},
   "source": [
    "## Thử nghiệm, so sánh các mô hình"
   ]
  },
  {
   "cell_type": "code",
   "execution_count": 16,
   "metadata": {},
   "outputs": [
    {
     "name": "stdout",
     "output_type": "stream",
     "text": [
      "[(0.0, 'first_model'), (1.0, 'second_model'), (0.0, 'third_model'), (7.0, 'fourth_model'), (0.0, 'fifth_model'), (2.0, 'sixth_model'), (0.0, 'seventh_model')]\n",
      "3\n"
     ]
    }
   ],
   "source": [
    "# Phần code cho yêu cầu 1d\n",
    "# Tìm ra mô hình tốt nhất (tự thiết kế bởi sinh viên)\n",
    "# In ra các kết quả cross-validation như yêu cầu\n",
    "train_1d = train\n",
    "iteration = 10\n",
    "best_model_count = np.zeros(7)\n",
    "\n",
    "for _ in range(iteration):\n",
    "    train_1d = train_1d.sample(frac=1)\n",
    "    X_train_1d = train_1d.iloc[:, :-1]    \n",
    "    y_train_1d = train_1d.iloc[:, -1]     \n",
    "    kfold = KFold(n_splits=10, shuffle=False)\n",
    "\n",
    "    analytical = (X_train_1d.loc[:, 'Quant'].to_numpy() * X_train_1d.loc[:, 'Logical'].to_numpy()) \n",
    "    analytical_test = (X_test.loc[:, 'Quant'].to_numpy() * X_test.loc[:, 'Logical'].to_numpy()) \n",
    "\n",
    "    traits = X_train_1d.loc[:, 'conscientiousness'].to_numpy() * X_train_1d.loc[:, 'agreeableness'].to_numpy() * X_train_1d.loc[:, 'openess_to_experience'].to_numpy()\n",
    "    traits_test = X_test.loc[:, 'conscientiousness'].to_numpy() * X_test.loc[:, 'agreeableness'].to_numpy() * X_test.loc[:, 'openess_to_experience'].to_numpy()\n",
    "\n",
    "    academic_performances = (X_train_1d.loc[:, 'collegeGPA'].to_numpy() + X_train_1d.loc[:, '12percentage'].to_numpy() + X_train_1d.loc[:, '10percentage'].to_numpy())/ 3\n",
    "    academic_performances_test = (X_test.loc[:, 'collegeGPA'].to_numpy() + X_test.loc[:, '12percentage'].to_numpy() + X_test.loc[:, '10percentage'].to_numpy())/ 3\n",
    "\n",
    "    first_model =  np.hstack((analytical.reshape(-1, 1), traits.reshape(-1, 1), X_train_1d.loc[:, 'English'].to_numpy().reshape(-1, 1),X_train_1d.loc[:, 'Domain'].to_numpy().reshape(-1, 1), academic_performances.reshape(-1, 1), X_train_1d.loc[:, 'ComputerProgramming'].to_numpy().reshape(-1, 1),  X_train_1d.loc[:, 'Gender'].to_numpy().reshape(-1, 1),  X_train_1d.loc[:, 'nueroticism'].to_numpy().reshape(-1, 1), X_train_1d.loc[:, 'Degree'].to_numpy().reshape(-1, 1)))\n",
    "    second_model =  np.hstack((analytical.reshape(-1, 1), traits.reshape(-1, 1), X_train_1d.loc[:, 'English'].to_numpy().reshape(-1, 1),X_train_1d.loc[:, 'Domain'].to_numpy().reshape(-1, 1), academic_performances.reshape(-1, 1), X_train_1d.loc[:, 'ComputerProgramming'].to_numpy().reshape(-1, 1),  X_train_1d.loc[:, 'Gender'].to_numpy().reshape(-1, 1),  X_train_1d.loc[:, 'nueroticism'].to_numpy().reshape(-1, 1), X_train_1d.loc[:, 'extraversion'].to_numpy().reshape(-1, 1), X_train_1d.loc[:, 'Degree'].to_numpy().reshape(-1, 1)))\n",
    "    third_model =  np.hstack((analytical.reshape(-1, 1), traits.reshape(-1, 1), X_train_1d.loc[:, 'English'].to_numpy().reshape(-1, 1),X_train_1d.loc[:, 'Domain'].to_numpy().reshape(-1, 1), academic_performances.reshape(-1, 1), X_train_1d.loc[:, 'ComputerProgramming'].to_numpy().reshape(-1, 1),  X_train_1d.loc[:, 'Gender'].to_numpy().reshape(-1, 1),  X_train_1d.loc[:, 'nueroticism'].to_numpy().reshape(-1, 1) * X_train_1d.loc[:, 'extraversion'].to_numpy().reshape(-1, 1), X_train_1d.loc[:, 'Degree'].to_numpy().reshape(-1, 1)))\n",
    "    fourth_model =  np.hstack((analytical.reshape(-1, 1), traits.reshape(-1, 1), X_train_1d.loc[:, 'English'].to_numpy().reshape(-1, 1),X_train_1d.loc[:, 'Domain'].to_numpy().reshape(-1, 1), academic_performances.reshape(-1, 1), X_train_1d.loc[:, 'ComputerProgramming'].to_numpy().reshape(-1, 1),  X_train_1d.loc[:, 'Gender'].to_numpy().reshape(-1, 1),  X_train_1d.loc[:, 'nueroticism'].to_numpy().reshape(-1, 1) * X_train_1d.loc[:, 'extraversion'].to_numpy().reshape(-1, 1), X_train_1d.loc[:, 'Degree'].to_numpy().reshape(-1, 1), X_train_1d.loc[:, 'Quant'].to_numpy().reshape(-1, 1) + X_train_1d.loc[:, 'nueroticism'].to_numpy().reshape(-1, 1)))\n",
    "    fifth_model = np.hstack((X_train_1d.iloc[:, :-1].to_numpy(), X_train_1d.loc[:, 'Quant'].to_numpy().reshape(-1, 1) + X_train_1d.loc[:, 'nueroticism'].to_numpy().reshape(-1, 1)))\n",
    "    sixth_model = np.hstack((X_train_1d.iloc[:, :-1].to_numpy(), X_train_1d.loc[:, 'Quant'].to_numpy().reshape(-1, 1) * X_train_1d.loc[:, 'nueroticism'].to_numpy().reshape(-1, 1)))\n",
    "    seventh_model = X_train_1d.to_numpy()\n",
    "\n",
    "    first_model_test =  np.hstack((analytical_test.reshape(-1, 1), traits_test.reshape(-1, 1), X_test.loc[:, 'English'].to_numpy().reshape(-1, 1), X_test.loc[:, 'Domain'].to_numpy().reshape(-1, 1), academic_performances_test.reshape(-1, 1), X_test.loc[:, 'ComputerProgramming'].to_numpy().reshape(-1, 1), X_test.loc[:, 'Gender'].to_numpy().reshape(-1, 1), X_test.loc[:, 'nueroticism'].to_numpy().reshape(-1, 1) , X_test.loc[:, 'Degree'].to_numpy().reshape(-1, 1)))   \n",
    "    second_model_test =  np.hstack((analytical_test.reshape(-1, 1), traits_test.reshape(-1, 1), X_test.loc[:, 'English'].to_numpy().reshape(-1, 1), X_test.loc[:, 'Domain'].to_numpy().reshape(-1, 1), academic_performances_test.reshape(-1, 1), X_test.loc[:, 'ComputerProgramming'].to_numpy().reshape(-1, 1),  X_test.loc[:, 'Gender'].to_numpy().reshape(-1, 1),  X_test.loc[:, 'nueroticism'].to_numpy().reshape(-1, 1), X_test.loc[:, 'extraversion'].to_numpy().reshape(-1, 1), X_test.loc[:, 'Degree'].to_numpy().reshape(-1, 1)))\n",
    "    third_model_test =  np.hstack((analytical_test.reshape(-1, 1), traits_test.reshape(-1, 1), X_test.loc[:, 'English'].to_numpy().reshape(-1, 1), X_test.loc[:, 'Domain'].to_numpy().reshape(-1, 1), academic_performances_test.reshape(-1, 1), X_test.loc[:, 'ComputerProgramming'].to_numpy().reshape(-1, 1),  X_test.loc[:, 'Gender'].to_numpy().reshape(-1, 1),  X_test.loc[:, 'nueroticism'].to_numpy().reshape(-1, 1) * X_test.loc[:, 'extraversion'].to_numpy().reshape(-1, 1), X_test.loc[:, 'Degree'].to_numpy().reshape(-1, 1)))\n",
    "    fourth_model_test =  np.hstack((analytical_test.reshape(-1, 1), traits_test.reshape(-1, 1), X_test.loc[:, 'English'].to_numpy().reshape(-1, 1), X_test.loc[:, 'Domain'].to_numpy().reshape(-1, 1), academic_performances_test.reshape(-1, 1), X_test.loc[:, 'ComputerProgramming'].to_numpy().reshape(-1, 1),  X_test.loc[:, 'Gender'].to_numpy().reshape(-1, 1),  X_test.loc[:, 'nueroticism'].to_numpy().reshape(-1, 1) * X_test.loc[:, 'extraversion'].to_numpy().reshape(-1, 1), X_test.loc[:, 'Degree'].to_numpy().reshape(-1, 1), X_test.loc[:, 'Quant'].to_numpy().reshape(-1, 1) + X_test.loc[:, 'nueroticism'].to_numpy().reshape(-1, 1)))\n",
    "    fifth_model_test = np.hstack((X_test.to_numpy(), X_test.loc[:, 'Quant'].to_numpy().reshape(-1, 1) + X_test.loc[:, 'nueroticism'].to_numpy().reshape(-1, 1)))\n",
    "    sixth_model_test = np.hstack((X_test.to_numpy(), X_test.loc[:, 'Quant'].to_numpy().reshape(-1, 1) * X_test.loc[:, 'nueroticism'].to_numpy().reshape(-1, 1)))\n",
    "    seventh_model_test = X_test.to_numpy()\n",
    "\n",
    "    models_train = [first_model, second_model, third_model, fourth_model, fifth_model, sixth_model, seventh_model]\n",
    "    models_test = [ first_model_test, second_model_test, third_model_test, fourth_model_test, fifth_model_test, sixth_model_test, seventh_model_test]\n",
    "    models_name = [ 'first_model', 'second_model', 'third_model', 'fourth_model', 'fifth_model', 'sixth_model', 'seventh_model']\n",
    "\n",
    "    average_maes = [np.abs(cross_val_score(LinearRegression(fit_intercept=False), model, y_train, cv=kfold, scoring='neg_mean_absolute_error')).mean() for model in models_train]\n",
    "    best_model_count[average_maes.index(min(average_maes))] += 1\n",
    "best_model_idx = best_model_count.argmax()\n",
    "print(list(zip(best_model_count, models_name)))\n",
    "print(best_model_idx)"
   ]
  },
  {
   "cell_type": "code",
   "execution_count": 17,
   "metadata": {},
   "outputs": [
    {
     "name": "stdout",
     "output_type": "stream",
     "text": [
      "3\n",
      "3\n"
     ]
    }
   ],
   "source": [
    "# Huấn luyện lại mô hình my_best_model trên toàn bộ tập huấn luyện\n",
    "print(best_model_idx)\n",
    "my_best_model = OLSLinearRegression().fit(models_train[best_model_index], y_train_1d)\n",
    "print(best_model_idx)\n"
   ]
  },
  {
   "cell_type": "code",
   "execution_count": 18,
   "metadata": {},
   "outputs": [
    {
     "name": "stdout",
     "output_type": "stream",
     "text": [
      "MAE trên tập kiểm tra: 105928.01453296411\n"
     ]
    }
   ],
   "source": [
    "# Gọi hàm MAE (tự cài đặt hoặc từ thư viện) trên tập kiểm tra với mô hình my_best_model\n",
    "X_para = models_test[best_model_index]\n",
    "y_hat = my_best_model.predict(X_para)\n",
    "print('MAE trên tập kiểm tra:', mae(y_test, y_hat))"
   ]
  },
  {
   "cell_type": "markdown",
   "metadata": {},
   "source": [
    "Công thức hồi quy (phần trọng số làm tròn đến 3 chữ số thập phân, ví dụ 0.012345 $\\to$ 0.012)\n",
    "\n",
    "$$\\text{Salary} = ...$$"
   ]
  }
 ],
 "metadata": {
  "kernelspec": {
   "display_name": "Python 3.8.5 ('base')",
   "language": "python",
   "name": "python3"
  },
  "language_info": {
   "codemirror_mode": {
    "name": "ipython",
    "version": 3
   },
   "file_extension": ".py",
   "mimetype": "text/x-python",
   "name": "python",
   "nbconvert_exporter": "python",
   "pygments_lexer": "ipython3",
   "version": "3.11.3"
  },
  "orig_nbformat": 4,
  "vscode": {
   "interpreter": {
    "hash": "15af99fd1a1a3f0a3416ea421564e792a8676a13670c2eed127d89ab0518a27b"
   }
  }
 },
 "nbformat": 4,
 "nbformat_minor": 2
}
