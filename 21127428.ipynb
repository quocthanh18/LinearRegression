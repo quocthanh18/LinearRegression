{
 "cells": [
  {
   "cell_type": "markdown",
   "metadata": {},
   "source": [
    "# <center>Đồ án 3: Linear Regression</center>"
   ]
  },
  {
   "cell_type": "markdown",
   "metadata": {},
   "source": [
    "# Thông tin sinh viên\n",
    "\n",
    "- Họ và tên: Phạm Nguyễn Quốc Thanh\n",
    "- MSSV: 21127428\n",
    "- Lớp: 21CLC08"
   ]
  },
  {
   "cell_type": "markdown",
   "metadata": {},
   "source": [
    "# Import"
   ]
  },
  {
   "cell_type": "code",
   "execution_count": 2205,
   "metadata": {},
   "outputs": [],
   "source": [
    "import pandas as pd\n",
    "import numpy as np\n",
    "from IPython.display import Markdown as md\n",
    "from sklearn.model_selection import cross_val_score, KFold\n",
    "from sklearn.linear_model import LinearRegression\n",
    "# Import thêm dữ thư viện nếu cần\n",
    "#1: Male\n",
    "#2: Female"
   ]
  },
  {
   "cell_type": "markdown",
   "metadata": {},
   "source": [
    "# Đọc dữ liệu"
   ]
  },
  {
   "cell_type": "code",
   "execution_count": 2206,
   "metadata": {},
   "outputs": [],
   "source": [
    "# Đọc dữ liệu bằng pandas\n",
    "train = pd.read_csv('train.csv')\n",
    "test = pd.read_csv('test.csv')\n",
    "\n",
    "# Lấy các đặc trưng X và giá trị mục tiêu y cho các tập huấn luyện (X_train) và kiểm tra (test)\n",
    "X_train = train.iloc[:, :-1]    # Dataframe (chứa 10 đặc trưng huấn luyện)\n",
    "y_train = train.iloc[:, -1]     # Series    (chứa 1 giá trị mục tiêu kiểm tra)\n",
    "X_test = test.iloc[:, :-1]      # Dataframe (chứa 10 đặc trưng kiểm tra)\n",
    "y_test = test.iloc[:, -1]       # Series    (chứa 1 giá trị mục tiêu kiểm tra)\n",
    "first_11_data_train = train.iloc[:, :11]\n",
    "first_11_data_test = test.iloc[:, :11]\n",
    "# Sinh viên có thể sử dụng các khác nếu cần"
   ]
  },
  {
   "cell_type": "markdown",
   "metadata": {},
   "source": [
    "# Cài đặt hàm"
   ]
  },
  {
   "cell_type": "code",
   "execution_count": 2243,
   "metadata": {},
   "outputs": [],
   "source": [
    "# Cài đặt các hàm cần thiết ở đây\n",
    "class OLSLinearRegression:\n",
    "    def fit(self, X, y):\n",
    "        X_pinv = np.linalg.inv(X.T @ X) @ X.T    # np.linalg.pinv(X)\n",
    "        self.w = X_pinv @ y\n",
    "\n",
    "        return self\n",
    "\n",
    "\n",
    "    def get_params(self):\n",
    "        return self.w\n",
    "\n",
    "\n",
    "    def predict(self, X):\n",
    "        return np.sum(self.w.ravel() * X, axis=1)\n",
    "\n",
    "def mae(y, y_hat):\n",
    "    return np.mean(np.abs(y.ravel() - y_hat.ravel())) \n",
    "\n",
    "def format_float(x):\n",
    "    return '{:.3f}'.format(x)"
   ]
  },
  {
   "cell_type": "markdown",
   "metadata": {},
   "source": [
    "# Yêu cầu 1a: Sử dụng toàn bộ 11 đặc trưng đầu tiên `Gender`, `10percentage`, `12percentage`, `CollegeTier`, `Degree`, `collegeGPA`, `CollegeCityTier`, `English`, `Logical`, `Quant`, `Domain` (2 điểm) "
   ]
  },
  {
   "cell_type": "code",
   "execution_count": 2244,
   "metadata": {},
   "outputs": [],
   "source": [
    "# Phần code cho yêu cầu 1a\n",
    "#Change Gender colum values from 1 to 0 and 2 to 1\n",
    "lr_1a = OLSLinearRegression().fit(first_11_data_train, y_train)"
   ]
  },
  {
   "cell_type": "code",
   "execution_count": 2245,
   "metadata": {},
   "outputs": [
    {
     "name": "stdout",
     "output_type": "stream",
     "text": [
      "MAE trên tập kiểm tra:  104863.77754033124\n",
      "Weights:\n",
      " 0    -22756.512821\n",
      "1       804.503156\n",
      "2      1294.654565\n",
      "3    -91781.897530\n",
      "4     23182.388679\n",
      "5      1437.548672\n",
      "6     -8570.661985\n",
      "7       147.858299\n",
      "8       152.888476\n",
      "9       117.221846\n",
      "10    34552.286221\n",
      "dtype: float64\n"
     ]
    }
   ],
   "source": [
    "# Gọi hàm MAE (tự cài đặt hoặc từ thư viện) trên tập kiểm tra\n",
    "y_hat = lr_1a.predict(first_11_data_test)\n",
    "\n",
    "#Library\n",
    "# print(\"MAE: \", mean_absolute_error(y_test.to_numpy().reshape(-1, 1), y_hat.reshape(-1, 1)))\n",
    "# print(lr_1a.coef_)\n",
    "# print(lr_1a.intercept_)\n",
    "\n",
    "#Self\n",
    "print(\"MAE trên tập kiểm tra: \", mae(y_test.to_numpy().reshape(-1, 1), y_hat))\n",
    "weights = lr_1a.get_params()\n",
    "print(\"Weights:\\n\", weights)"
   ]
  },
  {
   "cell_type": "code",
   "execution_count": 2246,
   "metadata": {},
   "outputs": [
    {
     "data": {
      "text/markdown": [
       "Công thức hồi quy (phần trọng số làm tròn đến 3 chữ số thập phân, ví dụ 0.012345 $\\to $ 0.012)"
      ],
      "text/plain": [
       "<IPython.core.display.Markdown object>"
      ]
     },
     "metadata": {},
     "output_type": "display_data"
    },
    {
     "data": {
      "text/markdown": [
       "Salary = -22756.513 x Gender + 804.503 x 10percentage + 1294.655 x 12percentage + -91781.898 x CollegeTier + 23182.389 x Degree + 1437.549 x collegeGPA + -8570.662 x CollegeCityTier + 147.858 x English + 152.888 x Logical + 117.222 x Quant + 34552.286 x Domain"
      ],
      "text/plain": [
       "<IPython.core.display.Markdown object>"
      ]
     },
     "metadata": {},
     "output_type": "display_data"
    }
   ],
   "source": [
    "first_11_columns = X_train.columns[:-1].to_numpy()\n",
    "results = zip(first_11_columns, lr_1a.get_params())\n",
    "\n",
    "display(md(\"Công thức hồi quy (phần trọng số làm tròn đến 3 chữ số thập phân, ví dụ 0.012345 $\\\\to $ 0.012)\"))\n",
    "display(md(\"Salary = \" + \" + \".join(f\"{w:.3f} x {f}\" for f, w in results)))"
   ]
  },
  {
   "cell_type": "markdown",
   "metadata": {},
   "source": [
    "# Xáo trộn dữ liệu 1 lần cho toàn bộ các câu còn lại"
   ]
  },
  {
   "cell_type": "code",
   "execution_count": 2247,
   "metadata": {},
   "outputs": [],
   "source": [
    "train = train.sample(frac=1)\n",
    "X_train = train.iloc[:, :-1]\n",
    "y_train = train.iloc[:, -1]"
   ]
  },
  {
   "cell_type": "markdown",
   "metadata": {},
   "source": [
    "# Yêu cầu 1b: Xây dựng mô hình sử dụng duy nhất 1 đặc trưng tính cách với các đặc trưng tính cách gồm `conscientiousness`, `agreeableness`, `extraversion`, `nueroticism`, `openess_to_experience`, tìm mô hình cho kết quả tốt nhất (1 điểm)"
   ]
  },
  {
   "cell_type": "markdown",
   "metadata": {},
   "source": [
    "Lưu ý: khi sử dụng cross-validation, sinh viên cần xáo trộn dữ liệu 1 lần duy nhất và thực hiện trên toàn bộ đặc trưng"
   ]
  },
  {
   "cell_type": "code",
   "execution_count": 2260,
   "metadata": {},
   "outputs": [
    {
     "name": "stdout",
     "output_type": "stream",
     "text": [
      "  Mô hình với 1 đặc trưng            MAE\n",
      "4             neuroticism  299248.592105\n",
      "1           agreeableness  300918.330485\n",
      "3   openess_to_experience  303138.560006\n",
      "0       conscientiousness  306115.229468\n",
      "2            extraversion  306960.136728\n"
     ]
    }
   ],
   "source": [
    "# Phần code cho yêu cầu 1b\n",
    "# Tìm ra đặc trưng tốt nhất\n",
    "# In ra các kết quả cross-validation như yêu cầu\n",
    "kfold = KFold(n_splits=10, shuffle=False)\n",
    "models_train = [X_train.loc[:, 'conscientiousness'].to_numpy().reshape(-1, 1), X_train.loc[:, 'agreeableness'].to_numpy().reshape(-1, 1), X_train.loc[:, 'extraversion'].to_numpy().reshape(-1, 1), X_train.loc[:, 'openess_to_experience'].to_numpy().reshape(-1, 1), X_train.loc[:, 'nueroticism'].to_numpy().reshape(-1, 1)]\n",
    "models_test = [X_test.loc[:, 'conscientiousness'].to_numpy().reshape(-1, 1), X_test.loc[:, 'agreeableness'].to_numpy().reshape(-1, 1), X_test.loc[:, 'extraversion'].to_numpy().reshape(-1, 1), X_test.loc[:, 'openess_to_experience'].to_numpy().reshape(-1, 1), X_test.loc[:, 'nueroticism'].to_numpy().reshape(-1, 1)]\n",
    "models_name = ['conscientiousness', 'agreeableness', 'extraversion', 'openess_to_experience', 'neuroticism']\n",
    "\n",
    "average_maes = [np.abs(cross_val_score(LinearRegression(fit_intercept=False), model, y_train, cv=kfold, scoring='neg_mean_absolute_error')).mean() for model in models_train]\n",
    "best_model_index = average_maes.index(min(average_maes))\n",
    "\n",
    "df = pd.DataFrame(list(zip(models_name, average_maes)), columns =['Mô hình với 1 đặc trưng', 'MAE'])\n",
    "df.sort_values(by=['MAE'], inplace=True)\n",
    "df.to_clipboard()\n",
    "print(df)\n",
    "#Nueroticism là đặc trưng tốt nhất"
   ]
  },
  {
   "cell_type": "code",
   "execution_count": 2258,
   "metadata": {},
   "outputs": [],
   "source": [
    "# Huấn luyện lại mô hình best_personality_feature_model với đặc trưng tốt nhất trên toàn bộ tập huấn luyện\n",
    "my_best_personality_feature_model = OLSLinearRegression().fit(models_train[best_model_index], y_train)"
   ]
  },
  {
   "cell_type": "code",
   "execution_count": 2259,
   "metadata": {},
   "outputs": [
    {
     "name": "stdout",
     "output_type": "stream",
     "text": [
      "MAE trên tập kiểm tra:  291019.693226953\n",
      "[-56546.30375318]\n"
     ]
    }
   ],
   "source": [
    "# Gọi hàm MAE (tự cài đặt hoặc từ thư viện) trên tập kiểm tra với mô hình best_personality_feature_model\n",
    "X_Para = models_test[best_model_index]\n",
    "y_hat = my_best_personality_feature_model.predict(X_Para)\n",
    "print(\"MAE trên tập kiểm tra: \", mae(y_test, y_hat))\n",
    "print(my_best_personality_feature_model.w)"
   ]
  },
  {
   "cell_type": "code",
   "execution_count": 2215,
   "metadata": {},
   "outputs": [
    {
     "data": {
      "text/markdown": [
       "Công thức hồi quy (phần trọng số làm tròn đến 3 chữ số thập phân, ví dụ 0.012345 $\\to $ 0.012)"
      ],
      "text/plain": [
       "<IPython.core.display.Markdown object>"
      ]
     },
     "metadata": {},
     "output_type": "display_data"
    },
    {
     "data": {
      "text/markdown": [
       "Salary = Neuroticism x -56546.304"
      ],
      "text/plain": [
       "<IPython.core.display.Markdown object>"
      ]
     },
     "metadata": {},
     "output_type": "display_data"
    }
   ],
   "source": [
    "display(md(\"Công thức hồi quy (phần trọng số làm tròn đến 3 chữ số thập phân, ví dụ 0.012345 $\\\\to $ 0.012)\"))\n",
    "display(md(\"Salary = Neuroticism x -56546.304\"))"
   ]
  },
  {
   "cell_type": "markdown",
   "metadata": {},
   "source": [
    "Công thức hồi quy (phần trọng số làm tròn đến 3 chữ số thập phân, ví dụ 0.012345 $\\to$ 0.012)\n",
    "\n",
    "$$\\text{Salary} = ...$$"
   ]
  },
  {
   "cell_type": "markdown",
   "metadata": {},
   "source": [
    "# Yêu cầu 1c: Xây dựng mô hình sử dụng duy nhất 1 đặc trưng `English`, `Logical`, `Quant`, tìm mô hình cho kết quả tốt nhất (1 điểm)"
   ]
  },
  {
   "cell_type": "markdown",
   "metadata": {},
   "source": [
    "Lưu ý: khi sử dụng cross-validation, sinh viên cần xáo trộn dữ liệu 1 lần duy nhất và thực hiện trên toàn bộ đặc trưng"
   ]
  },
  {
   "cell_type": "code",
   "execution_count": 2261,
   "metadata": {},
   "outputs": [
    {
     "name": "stdout",
     "output_type": "stream",
     "text": [
      "  Mô hình với 1 đặc trưng            MAE\n",
      "0                   Quant  118144.208902\n",
      "1                 Logical  120332.924373\n",
      "2                 English  121948.949445\n"
     ]
    }
   ],
   "source": [
    "# Phần code cho yêu cầu 1c\n",
    "# Tìm ra đặc trưng tốt nhất\n",
    "# In ra các kết quả cross-validation như yêu cầu\n",
    "kfold = KFold(n_splits=10, shuffle=False)\n",
    "models_train = [X_train.loc[:, 'Quant'].to_numpy().reshape(-1, 1), X_train.loc[:, 'Logical'].to_numpy().reshape(-1, 1), X_train.loc[:, 'English'].to_numpy().reshape(-1, 1)]\n",
    "models_test = [X_test.loc[:, 'Quant'].to_numpy().reshape(-1, 1), X_test.loc[:, 'Logical'].to_numpy().reshape(-1, 1), X_test.loc[:, 'English'].to_numpy().reshape(-1, 1)]\n",
    "models_name = ['Quant', 'Logical', 'English']\n",
    "\n",
    "average_maes = [np.abs(cross_val_score(LinearRegression(fit_intercept=False), model, y_train, cv=kfold, scoring='neg_mean_absolute_error')).mean() for model in models_train]\n",
    "best_model_index = average_maes.index(min(average_maes))\n",
    "\n",
    "df = pd.DataFrame(list(zip(models_name, average_maes)), columns =['Mô hình với 1 đặc trưng', 'MAE'])\n",
    "df.sort_values(by=['MAE'], inplace=True)\n",
    "df.to_clipboard()\n",
    "print(df)\n",
    "#Quant là đặc trưng tốt nhất"
   ]
  },
  {
   "cell_type": "code",
   "execution_count": 2262,
   "metadata": {},
   "outputs": [],
   "source": [
    "# Huấn luyện lại mô hình best_skill_feature_model với đặc trưng tốt nhất trên toàn bộ tập huấn luyện\n",
    "my_best_skill_feature_model = OLSLinearRegression().fit(models_train[best_model_index], y_train)"
   ]
  },
  {
   "cell_type": "code",
   "execution_count": 2263,
   "metadata": {},
   "outputs": [
    {
     "name": "stdout",
     "output_type": "stream",
     "text": [
      "MAE trên tập kiểm tra:  106819.57761989674\n",
      "[585.89538084]\n"
     ]
    }
   ],
   "source": [
    "# Gọi hàm MAE (tự cài đặt hoặc từ thư viện) trên tập kiểm tra với mô hình best_skill_feature_model\n",
    "X_Para = models_test[best_model_index]\n",
    "y_hat = my_best_skill_feature_model.predict(X_Para)\n",
    "print(\"MAE trên tập kiểm tra: \", mae(y_test, y_hat))\n",
    "print(my_best_skill_feature_model.w)"
   ]
  },
  {
   "cell_type": "code",
   "execution_count": 2264,
   "metadata": {},
   "outputs": [
    {
     "data": {
      "text/markdown": [
       "Công thức hồi quy (phần trọng số làm tròn đến 3 chữ số thập phân, ví dụ 0.012345 $\\to $ 0.012)"
      ],
      "text/plain": [
       "<IPython.core.display.Markdown object>"
      ]
     },
     "metadata": {},
     "output_type": "display_data"
    },
    {
     "data": {
      "text/markdown": [
       "Salary = Quant x 585.895"
      ],
      "text/plain": [
       "<IPython.core.display.Markdown object>"
      ]
     },
     "metadata": {},
     "output_type": "display_data"
    }
   ],
   "source": [
    "display(md(\"Công thức hồi quy (phần trọng số làm tròn đến 3 chữ số thập phân, ví dụ 0.012345 $\\\\to $ 0.012)\"))\n",
    "display(md(\"Salary = Quant x 585.895\"))"
   ]
  },
  {
   "cell_type": "markdown",
   "metadata": {},
   "source": [
    "Công thức hồi quy (phần trọng số làm tròn đến 3 chữ số thập phân, ví dụ 0.012345 $\\to$ 0.012)\n",
    "\n",
    "$$\\text{Salary} = ...$$"
   ]
  },
  {
   "cell_type": "markdown",
   "metadata": {},
   "source": [
    "# Yêu cầu 1d: Sinh viên tự xây dựng mô hình, tìm mô hình cho kết quả tốt nhất (3 điểm)"
   ]
  },
  {
   "cell_type": "markdown",
   "metadata": {},
   "source": [
    "Lưu ý: khi sử dụng cross-validation, sinh viên cần xáo trộn dữ liệu 1 lần duy nhất và thực hiện trên toàn bộ $m$ mô hình mà sinh viên thiết kế"
   ]
  },
  {
   "cell_type": "markdown",
   "metadata": {},
   "source": [
    "## Tìm mô hình"
   ]
  },
  {
   "cell_type": "code",
   "execution_count": 2265,
   "metadata": {},
   "outputs": [
    {
     "name": "stdout",
     "output_type": "stream",
     "text": [
      "                  Feature            MAE\n",
      "23                    All  110419.182513\n",
      "9                   Quant  118144.208902\n",
      "1            10percentage  118852.566509\n",
      "2            12percentage  120033.097356\n",
      "8                 Logical  120332.924373\n",
      "5              collegeGPA  121531.961882\n",
      "7                 English  121948.949445\n",
      "3             CollegeTier  133475.597572\n",
      "4                  Degree  137527.571455\n",
      "0                  Gender  150416.337377\n",
      "11    ComputerProgramming  156016.376342\n",
      "10                 Domain  175539.142292\n",
      "6         CollegeCityTier  251450.680674\n",
      "12  ElectronicsAndSemicon  257427.229807\n",
      "13        ComputerScience  268409.984478\n",
      "16            TelecomEngg  290913.932167\n",
      "14         MechanicalEngg  297415.809472\n",
      "21            nueroticism  299248.592105\n",
      "19          agreeableness  300918.330485\n",
      "15         ElectricalEngg  301204.472375\n",
      "22  openess_to_experience  303138.560006\n",
      "18      conscientiousness  306115.229468\n",
      "17              CivilEngg  306116.156725\n",
      "20           extraversion  306960.136728\n"
     ]
    }
   ],
   "source": [
    "# Trình bày các phần tìm ra mô hình\n",
    "kfold = KFold(n_splits=10, shuffle=False)\n",
    "models_train = []\n",
    "models_test = []\n",
    "for i in range(23):\n",
    "    single_feature_model = X_train.iloc[:, i].to_numpy().reshape(-1, 1)\n",
    "    models_train.append(single_feature_model)\n",
    "    models_test.append(X_test.iloc[:, i])\n",
    "models_train.append(X_train)\n",
    "models_test.append(X_test)\n",
    "\n",
    "average_maes = np.zeros(len(models_train))\n",
    "average_maes = [np.abs(cross_val_score(LinearRegression(fit_intercept=False), model , y_train, scoring='neg_mean_absolute_error', cv=kfold).mean()) for model in models_train]\n",
    "#Average weights for all models\n",
    "average_weights = np.zeros(len(models_train))\n",
    "average_weights = [np.abs(cross_val_score(LinearRegression(fit_intercept=False), model , y_train, scoring='neg_mean_absolute_error', cv=kfold).mean()) for model in models_train]\n",
    "df = []\n",
    "for i in range(23):\n",
    "    row = []\n",
    "    row.append(X_train.columns[i])\n",
    "    row.append(average_maes[i])\n",
    "    df.append(row)\n",
    "df.append(['All', average_maes[23]])\n",
    "df = pd.DataFrame(df, columns=['Feature', 'MAE'])\n",
    "df = df.sort_values(by=['MAE'])\n",
    "df.to_clipboard()\n",
    "print(df) "
   ]
  },
  {
   "cell_type": "markdown",
   "metadata": {},
   "source": [
    "## Thử nghiệm, so sánh các mô hình"
   ]
  },
  {
   "cell_type": "code",
   "execution_count": 2224,
   "metadata": {},
   "outputs": [
    {
     "name": "stdout",
     "output_type": "stream",
     "text": [
      "                              Mô hình            MAE\n",
      "1      Mô hình 22 đặc trưng (Degree))  110575.536943\n",
      "2  Mô hình 21 đặc trưng (Mech, Civil)  110613.592179\n",
      "0                Mô hình 23 đặc trưng  110761.273488\n"
     ]
    }
   ],
   "source": [
    "# Phần code cho yêu cầu 1d\n",
    "# Tìm ra mô hình tốt nhất (tự thiết kế bởi sinh viên)\n",
    "# In ra các kết quả cross-validation như yêu cầu\n",
    "kfold = KFold(n_splits=10, shuffle=False)\n",
    "\n",
    "#Mô hình thứ nhất: Sử dụng 23 đặc trưng\n",
    "first_model = X_train\n",
    "first_model_test = X_test\n",
    "first_model_name = 'Mô hình 23 đặc trưng'\n",
    "#Mô hình thứ hai: Sử dụng các đặc trưng Logical, Quant, Domain và English\n",
    "dropped_features = ['Degree']\n",
    "second_model = X_train.drop(columns=dropped_features)\n",
    "second_model_test = X_test.drop(columns=dropped_features)\n",
    "second_model_name = 'Mô hình 22 đặc trưng (Degree))'\n",
    "\n",
    "#Mô hình thứ ba:\n",
    "dropped_features = ['MechanicalEngg', 'CivilEngg']\n",
    "third_model = X_train.drop(columns=dropped_features)\n",
    "third_model_test = X_test.drop(columns=dropped_features)\n",
    "third_model_name = 'Mô hình 21 đặc trưng (Mech, Civil)'\n",
    "\n",
    "models_train = [first_model, second_model, third_model]\n",
    "models_test = [first_model_test, second_model_test, third_model_test]\n",
    "models_name = [first_model_name, second_model_name, third_model_name]\n",
    "\n",
    "average_mae = np.zeros(len(models_train))\n",
    "average_mae = [np.abs(cross_val_score(LinearRegression(fit_intercept=False), model, y_train, cv=kfold, scoring='neg_mean_absolute_error').mean()) for model in models_train]\n",
    "data = []\n",
    "for i in range(len(models_train)):\n",
    "    data.append([models_name[i], average_mae[i]])\n",
    "df = pd.DataFrame(data, columns=['Mô hình', 'MAE'])\n",
    "df.sort_values(['MAE'], inplace=True)\n",
    "df.to_clipboard()\n",
    "print(df)"
   ]
  },
  {
   "cell_type": "code",
   "execution_count": 2222,
   "metadata": {},
   "outputs": [],
   "source": [
    "# Huấn luyện lại mô hình my_best_model trên toàn bộ tập huấn luyện\n",
    "best_model_index = np.argmin(average_mae)\n",
    "my_best_model = LinearRegression(fit_intercept=False).fit(models_train[best_model_index], y_train)"
   ]
  },
  {
   "cell_type": "code",
   "execution_count": 2223,
   "metadata": {},
   "outputs": [
    {
     "name": "stdout",
     "output_type": "stream",
     "text": [
      "MAE trên tập kiểm tra:  101582.13373031771\n",
      "Các hệ số tương ứng với các features:\n",
      " [['Gender' -23699.803]\n",
      " ['10percentage' 875.683]\n",
      " ['12percentage' 1171.61]\n",
      " ['CollegeTier' -81235.349]\n",
      " ['collegeGPA' 1772.254]\n",
      " ['CollegeCityTier' -5421.824]\n",
      " ['English' 154.006]\n",
      " ['Logical' 123.131]\n",
      " ['Quant' 101.7]\n",
      " ['Domain' 28036.853]\n",
      " ['ComputerProgramming' 77.934]\n",
      " ['ElectronicsAndSemicon' -49.342]\n",
      " ['ComputerScience' -178.44]\n",
      " ['MechanicalEngg' 33.156]\n",
      " ['ElectricalEngg' -153.572]\n",
      " ['TelecomEngg' -64.832]\n",
      " ['CivilEngg' 146.868]\n",
      " ['conscientiousness' -19799.095]\n",
      " ['agreeableness' 15230.887]\n",
      " ['extraversion' 5054.964]\n",
      " ['nueroticism' -10592.207]\n",
      " ['openess_to_experience' -5725.161]]\n"
     ]
    }
   ],
   "source": [
    "# Gọi hàm MAE (tự cài đặt hoặc từ thư viện) trên tập kiểm tra với mô hình my_best_model\n",
    "y_hat_best = my_best_model.predict(models_test[best_model_index])\n",
    "print(\"MAE trên tập kiểm tra: \", mae(y_test, y_hat_best))\n",
    "results = pd.DataFrame(list(zip(models_test[best_model_index].columns, np.round(my_best_model.coef_, 3))) )\n",
    "print(\"Các hệ số tương ứng với các đặc trưng:\\n\",np.array(results).reshape(-1, 2))\n",
    "results.to_clipboard()"
   ]
  },
  {
   "cell_type": "markdown",
   "metadata": {},
   "source": [
    "Công thức hồi quy (phần trọng số làm tròn đến 3 chữ số thập phân, ví dụ 0.012345 $\\to$ 0.012)\n",
    "\n",
    "$$\\text{Salary} = ...$$"
   ]
  }
 ],
 "metadata": {
  "kernelspec": {
   "display_name": "Python 3.8.5 ('base')",
   "language": "python",
   "name": "python3"
  },
  "language_info": {
   "codemirror_mode": {
    "name": "ipython",
    "version": 3
   },
   "file_extension": ".py",
   "mimetype": "text/x-python",
   "name": "python",
   "nbconvert_exporter": "python",
   "pygments_lexer": "ipython3",
   "version": "3.11.4"
  },
  "orig_nbformat": 4,
  "vscode": {
   "interpreter": {
    "hash": "15af99fd1a1a3f0a3416ea421564e792a8676a13670c2eed127d89ab0518a27b"
   }
  }
 },
 "nbformat": 4,
 "nbformat_minor": 2
}
