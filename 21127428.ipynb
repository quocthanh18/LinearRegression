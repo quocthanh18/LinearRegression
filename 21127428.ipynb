{
 "cells": [
  {
   "cell_type": "markdown",
   "metadata": {},
   "source": [
    "# <center>Đồ án 3: Linear Regression</center>"
   ]
  },
  {
   "cell_type": "markdown",
   "metadata": {},
   "source": [
    "# Thông tin sinh viên\n",
    "\n",
    "- Họ và tên: Phạm Nguyễn Quốc Thanh\n",
    "- MSSV: 21127428\n",
    "- Lớp: 21CLC08"
   ]
  },
  {
   "cell_type": "markdown",
   "metadata": {},
   "source": [
    "# Import"
   ]
  },
  {
   "cell_type": "code",
   "execution_count": 1,
   "metadata": {},
   "outputs": [],
   "source": [
    "import pandas as pd\n",
    "import numpy as np\n",
    "from IPython.display import Markdown as md\n",
    "\n",
    "# Import thêm dữ thư viện nếu cần"
   ]
  },
  {
   "cell_type": "markdown",
   "metadata": {},
   "source": [
    "# Đọc dữ liệu"
   ]
  },
  {
   "cell_type": "code",
   "execution_count": 2,
   "metadata": {},
   "outputs": [],
   "source": [
    "# Đọc dữ liệu bằng pandas\n",
    "train = pd.read_csv('train.csv')\n",
    "test = pd.read_csv('test.csv')\n",
    "\n",
    "# Lấy các đặc trưng X và giá trị mục tiêu y cho các tập huấn luyện (train) và kiểm tra (test)\n",
    "X_train = train.iloc[:, :-1]    # Dataframe (chứa 10 đặc trưng huấn luyện)\n",
    "y_train = train.iloc[:, -1]     # Series    (chứa 1 giá trị mục tiêu kiểm tra)\n",
    "X_test = test.iloc[:, :-1]      # Dataframe (chứa 10 đặc trưng kiểm tra)\n",
    "y_test = test.iloc[:, -1]       # Series    (chứa 1 giá trị mục tiêu kiểm tra)\n",
    "Salary_train = train.iloc[:, [-1]].to_numpy() \n",
    "Salary_test = test.iloc[:, [-1]]\n",
    "first_11_data_train = train.iloc[:, :11].to_numpy()\n",
    "first_11_data_test = test.iloc[:, :11].to_numpy()\n",
    "first_3_data = train.iloc[:3, :3]\n",
    "# Sinh viên có thể sử dụng các khác nếu cần"
   ]
  },
  {
   "cell_type": "markdown",
   "metadata": {},
   "source": [
    "# Cài đặt hàm"
   ]
  },
  {
   "cell_type": "code",
   "execution_count": 3,
   "metadata": {},
   "outputs": [],
   "source": [
    "# Cài đặt các hàm cần thiết ở đây\n",
    "class OLSLinearRegression:\n",
    "    def fit(self, X, y):\n",
    "        X_pinv = np.linalg.inv(X.T @ X) @ X.T    # np.linalg.pinv(X)\n",
    "        self.w = X_pinv @ y\n",
    "\n",
    "        return self\n",
    "\n",
    "\n",
    "    def get_params(self):\n",
    "        return self.w\n",
    "\n",
    "\n",
    "    def predict(self, X):\n",
    "        return np.sum(self.w.ravel() * X, axis=1)\n",
    "\n",
    "def mae(y, y_hat):\n",
    "    return np.mean(np.abs(y.ravel() - y_hat.ravel())) \n",
    "\n",
    "def k_fold_range(k_fold, n):\n",
    "    range_list = []\n",
    "    div, remain = n // k_fold, n % k_fold\n",
    "    for i in range(k_fold):\n",
    "        if i == k_fold - 1:\n",
    "            range_list.append((i * div, (i + 1) * div + remain))\n",
    "        else:\n",
    "            range_list.append((i * div, (i + 1) * div))\n",
    "    return range_list"
   ]
  },
  {
   "cell_type": "markdown",
   "metadata": {},
   "source": [
    "# Yêu cầu 1a: Sử dụng toàn bộ 11 đặc trưng đầu tiên `Gender`, `10percentage`, `12percentage`, `CollegeTier`, `Degree`, `collegeGPA`, `CollegeCityTier`, `English`, `Logical`, `Quant`, `Domain` (2 điểm) "
   ]
  },
  {
   "cell_type": "code",
   "execution_count": 197,
   "metadata": {},
   "outputs": [
    {
     "name": "stdout",
     "output_type": "stream",
     "text": [
      "(2248,)\n",
      "(2248, 11)\n"
     ]
    }
   ],
   "source": [
    "# Phần code cho yêu cầu 1a\n",
    "lr_1a = OLSLinearRegression().fit(first_11_data_train, y_train.to_numpy())\n",
    "# required_1a = OLSLinearRegression().fit(first_11_data_test, y_test.to_numpy())\n",
    "# required_1a.get_params()\n",
    "\n"
   ]
  },
  {
   "cell_type": "code",
   "execution_count": 118,
   "metadata": {},
   "outputs": [
    {
     "name": "stdout",
     "output_type": "stream",
     "text": [
      "MAE:  104863.77754032997\n",
      "Weights:\n",
      " [[-22756.513]\n",
      " [   804.503]\n",
      " [  1294.655]\n",
      " [-91781.898]\n",
      " [ 23182.389]\n",
      " [  1437.549]\n",
      " [ -8570.662]\n",
      " [   147.858]\n",
      " [   152.888]\n",
      " [   117.222]\n",
      " [ 34552.286]]\n"
     ]
    }
   ],
   "source": [
    "# Gọi hàm MAE (tự cài đặt hoặc từ thư viện) trên tập kiểm tra\n",
    "y_hat = lr_1a.predict(first_11_data_test)\n",
    "print(\"MAE: \", mae(y_test.to_numpy().reshape(-1, 1), y_hat.reshape(-1, 1)))\n",
    "np.set_printoptions(suppress=True, precision=3)\n",
    "weights = lr_1a.get_params()\n",
    "print(\"Weights:\\n\", weights.reshape(-1, 1))"
   ]
  },
  {
   "cell_type": "code",
   "execution_count": 100,
   "metadata": {},
   "outputs": [
    {
     "data": {
      "text/markdown": [
       "Công thức hồi quy (phần trọng số làm tròn đến 3 chữ số thập phân, ví dụ 0.012345 $\\to $ 0.012)"
      ],
      "text/plain": [
       "<IPython.core.display.Markdown object>"
      ]
     },
     "metadata": {},
     "output_type": "display_data"
    },
    {
     "data": {
      "text/markdown": [
       "Salary = -22756.513 x Gender + 804.503 x 10percentage + 1294.655 x 12percentage + -91781.898 x CollegeTier + 23182.389 x Degree + 1437.549 x collegeGPA + -8570.662 x CollegeCityTier + 147.858 x English + 152.888 x Logical + 117.222 x Quant + 34552.286 x Domain"
      ],
      "text/plain": [
       "<IPython.core.display.Markdown object>"
      ]
     },
     "metadata": {},
     "output_type": "display_data"
    }
   ],
   "source": [
    "first_11_columns = train.columns[:11].to_numpy()\n",
    "results = zip(first_11_columns, weights)\n",
    "\n",
    "display(md(\"Công thức hồi quy (phần trọng số làm tròn đến 3 chữ số thập phân, ví dụ 0.012345 $\\\\to $ 0.012)\"))\n",
    "display(md(\"Salary = \" + \" + \".join(f\"{w:.3f} x {f}\" for f, w in results)))"
   ]
  },
  {
   "cell_type": "markdown",
   "metadata": {},
   "source": [
    "Công thức hồi quy (phần trọng số làm tròn đến 3 chữ số thập phân, ví dụ 0.012345 $\\to$ 0.012)\n",
    "\n",
    "$$\\text{Salary} = \\text{Gender} \\times -31888.616 + \\text{10percentage} \\times 1947.808 + \\text{12percentage} \\times 100.178 + \\text{CollegeTier} \\times -72462.209 + \\text{Degree} \\times -11070.036 + \\text{collegeGPA} \\times 851.434 + \\text{CollegeCityTier} \\times -6642.376 + \\text{English} \\times 70.451 + \\text{Logical} \\times -95.119 + \\text{Quant} \\times 379.677 + \\text{Domain} \\times 41249.229 $$"
   ]
  },
  {
   "cell_type": "markdown",
   "metadata": {},
   "source": [
    "# Yêu cầu 1b: Xây dựng mô hình sử dụng duy nhất 1 đặc trưng tính cách với các đặc trưng tính cách gồm `conscientiousness`, `agreeableness`, `extraversion`, `nueroticism`, `openess_to_experience`, tìm mô hình cho kết quả tốt nhất (1 điểm)"
   ]
  },
  {
   "cell_type": "markdown",
   "metadata": {},
   "source": [
    "Lưu ý: khi sử dụng cross-validation, sinh viên cần xáo trộn dữ liệu 1 lần duy nhất và thực hiện trên toàn bộ đặc trưng"
   ]
  },
  {
   "cell_type": "code",
   "execution_count": 204,
   "metadata": {},
   "outputs": [
    {
     "name": "stdout",
     "output_type": "stream",
     "text": [
      "MAE:  299180.6403828239\n"
     ]
    }
   ],
   "source": [
    "c = X_train.iloc[:, 18]\n",
    "lr_test = OLSLinearRegression().fit(c.to_numpy().reshape(-1, 1), y_train.to_numpy().reshape(-1, 1))\n",
    "y_hat = lr_test.predict(X_test.iloc[:, 18].to_numpy().reshape(-1, 1))\n",
    "print('MAE: ', mae(y_test.to_numpy().reshape(-1, 1), y_hat))"
   ]
  },
  {
   "cell_type": "code",
   "execution_count": 222,
   "metadata": {},
   "outputs": [
    {
     "name": "stdout",
     "output_type": "stream",
     "text": [
      "  Mô hình với 1 đặc trưng         MAE\n",
      "0       conscientiousness  306179.646\n",
      "1           agreeableness  300483.563\n",
      "2            extraversion  306852.588\n",
      "3             nueroticism  299514.381\n",
      "4   openess_to_experience  303048.427\n"
     ]
    }
   ],
   "source": [
    "# Phần code cho yêu cầu 1b\n",
    "# Tìm ra đặc trưng tốt nhất\n",
    "# In ra các kết quả cross-validation như yêu cầu\n",
    "X_train_1b_all = train.iloc[:, -6:].to_numpy()\n",
    "np.random.shuffle(X_train_1b_all)\n",
    "\n",
    "k_fold = 5\n",
    "range_list = k_fold_range(k_fold, X_train_1b_all.shape[0])\n",
    "avg_MAE = np.zeros((1, 5))\n",
    "for i in range(5):\n",
    "    idx = 18\n",
    "    for j in range(5):\n",
    "        for fold in range_list:\n",
    "            lr_1b = OLSLinearRegression().fit(X_train_1b_all[fold[0]:fold[1], j].reshape(-1, 1), X_train_1b_all[fold[0]:fold[1], -1].reshape(-1, 1))\n",
    "            y_hat = lr_1b.predict(X_train.iloc[:,idx].to_numpy().reshape(-1, 1))\n",
    "            avg_MAE[0][j] += mae(y_train.to_numpy().reshape(-1, 1),y_hat)/5\n",
    "        idx += 1\n",
    "avg_MAE /= 5\n",
    "personalities_columns = X_train.columns[-5:].to_numpy()\n",
    "df = pd.DataFrame(list(zip(personalities_columns.flatten(), avg_MAE.flatten())), columns =['Mô hình với 1 đặc trưng', 'MAE'])\n",
    "def format_float(x):\n",
    "    return '{:.3f}'.format(x)\n",
    "df['MAE'] = df['MAE'].apply(format_float)\n",
    "print(df)\n",
    "#Nueroticism là đặc trưng tốt nhất"
   ]
  },
  {
   "cell_type": "code",
   "execution_count": 212,
   "metadata": {},
   "outputs": [],
   "source": [
    "# Huấn luyện lại mô hình best_personality_feature_model với đặc trưng tốt nhất trên toàn bộ tập huấn luyện\n",
    "#Nueroticism columns\n",
    "neuro = X_train.loc[:, 'nueroticism']\n",
    "best_personality_feature_model = OLSLinearRegression().fit(neuro.to_numpy().reshape(-1, 1), y_train)"
   ]
  },
  {
   "cell_type": "code",
   "execution_count": 217,
   "metadata": {},
   "outputs": [
    {
     "name": "stdout",
     "output_type": "stream",
     "text": [
      "MAE:  299177.37436454324\n",
      "[-56546.304]\n"
     ]
    }
   ],
   "source": [
    "# Gọi hàm MAE (tự cài đặt hoặc từ thư viện) trên tập kiểm tra với mô hình best_personality_feature_model\n",
    "y_hat = best_personality_feature_model.predict(X_train.loc[:, 'nueroticism'].to_numpy().reshape(-1, 1))\n",
    "print(\"MAE: \", mae(y_train, y_hat))\n",
    "print(best_personality_feature_model.w)"
   ]
  },
  {
   "cell_type": "code",
   "execution_count": 218,
   "metadata": {},
   "outputs": [
    {
     "data": {
      "text/markdown": [
       "Công thức hồi quy (phần trọng số làm tròn đến 3 chữ số thập phân, ví dụ 0.012345 $\\to $ 0.012)"
      ],
      "text/plain": [
       "<IPython.core.display.Markdown object>"
      ]
     },
     "metadata": {},
     "output_type": "display_data"
    },
    {
     "data": {
      "text/markdown": [
       "Salary = neuroticism x -56546.304"
      ],
      "text/plain": [
       "<IPython.core.display.Markdown object>"
      ]
     },
     "metadata": {},
     "output_type": "display_data"
    }
   ],
   "source": [
    "display(md(\"Công thức hồi quy (phần trọng số làm tròn đến 3 chữ số thập phân, ví dụ 0.012345 $\\\\to $ 0.012)\"))\n",
    "display(md(\"Salary = neuroticism x -56546.304\"))"
   ]
  },
  {
   "cell_type": "markdown",
   "metadata": {},
   "source": [
    "Công thức hồi quy (phần trọng số làm tròn đến 3 chữ số thập phân, ví dụ 0.012345 $\\to$ 0.012)\n",
    "\n",
    "$$\\text{Salary} = ...$$"
   ]
  },
  {
   "cell_type": "markdown",
   "metadata": {},
   "source": [
    "# Yêu cầu 1c: Xây dựng mô hình sử dụng duy nhất 1 đặc trưng `English`, `Logical`, `Quant`, tìm mô hình cho kết quả tốt nhất (1 điểm)"
   ]
  },
  {
   "cell_type": "markdown",
   "metadata": {},
   "source": [
    "Lưu ý: khi sử dụng cross-validation, sinh viên cần xáo trộn dữ liệu 1 lần duy nhất và thực hiện trên toàn bộ đặc trưng"
   ]
  },
  {
   "cell_type": "code",
   "execution_count": null,
   "metadata": {},
   "outputs": [],
   "source": []
  },
  {
   "cell_type": "code",
   "execution_count": 234,
   "metadata": {},
   "outputs": [
    {
     "name": "stdout",
     "output_type": "stream",
     "text": [
      "  Mô hình với 1 đặc trưng         MAE\n",
      "0                 English  122398.622\n",
      "1                 Logical  120728.908\n",
      "2                   Quant  118567.220\n"
     ]
    }
   ],
   "source": [
    "# Phần code cho yêu cầu 1c\n",
    "# Tìm ra đặc trưng tốt nhất\n",
    "# In ra các kết quả cross-validation như yêu cầu\n",
    "X_train_1c = train.loc[:, ['English', 'Logical', 'Quant', 'Salary']].to_numpy()\n",
    "np.random.shuffle(X_train_1c)\n",
    "\n",
    "k_fold = 5\n",
    "range_list = k_fold_range(n = X_train_1c.shape[0], k_fold = k_fold)\n",
    "avg_MAE = np.zeros((1, 5))\n",
    "\n",
    "for i in range(5):\n",
    "    idx = 7\n",
    "    for j in range(3):\n",
    "        for fold in range_list:\n",
    "            lr_1c = OLSLinearRegression().fit(X_train_1c[fold[0]:fold[1], j].reshape(-1, 1), X_train_1c[fold[0]:fold[1], -1].reshape(-1, 1))\n",
    "            y_hat = lr_1c.predict(X_train.iloc[:, idx].to_numpy().reshape(-1, 1))\n",
    "            avg_MAE[0][j] += mae(y_train.to_numpy().reshape(-1, 1), y_hat)/5\n",
    "        idx += 1\n",
    "avg_MAE /= 5 \n",
    "elq_columns = X_train.columns[7:10].to_numpy()\n",
    "df = pd.DataFrame(list(zip(elq_columns.flatten(), avg_MAE.flatten())), columns =['Mô hình với 1 đặc trưng', 'MAE'])\n",
    "def format_float(x):\n",
    "    return '{:.3f}'.format(x)\n",
    "df['MAE'] = df['MAE'].apply(format_float)\n",
    "print(df)\n",
    "#Quant là đặc trưng tốt nhất"
   ]
  },
  {
   "cell_type": "code",
   "execution_count": 236,
   "metadata": {},
   "outputs": [],
   "source": [
    "# Huấn luyện lại mô hình best_skill_feature_model với đặc trưng tốt nhất trên toàn bộ tập huấn luyện\n",
    "quant = X_train.loc[:, 'Quant']\n",
    "best_personality_feature_model = OLSLinearRegression().fit(quant.to_numpy().reshape(-1, 1), y_train)"
   ]
  },
  {
   "cell_type": "code",
   "execution_count": 238,
   "metadata": {},
   "outputs": [
    {
     "name": "stdout",
     "output_type": "stream",
     "text": [
      "MAE:  118049.00716605876\n",
      "[585.895]\n"
     ]
    }
   ],
   "source": [
    "# Gọi hàm MAE (tự cài đặt hoặc từ thư viện) trên tập kiểm tra với mô hình best_skill_feature_model\n",
    "y_hat = best_personality_feature_model.predict(X_train.loc[:, 'Quant'].to_numpy().reshape(-1, 1))\n",
    "print(\"MAE: \", mae(y_train, y_hat))\n",
    "print(best_personality_feature_model.w)"
   ]
  },
  {
   "cell_type": "code",
   "execution_count": 239,
   "metadata": {},
   "outputs": [
    {
     "data": {
      "text/markdown": [
       "Công thức hồi quy (phần trọng số làm tròn đến 3 chữ số thập phân, ví dụ 0.012345 $\\to $ 0.012)"
      ],
      "text/plain": [
       "<IPython.core.display.Markdown object>"
      ]
     },
     "metadata": {},
     "output_type": "display_data"
    },
    {
     "data": {
      "text/markdown": [
       "Salary = Quant x 585.895"
      ],
      "text/plain": [
       "<IPython.core.display.Markdown object>"
      ]
     },
     "metadata": {},
     "output_type": "display_data"
    }
   ],
   "source": [
    "display(md(\"Công thức hồi quy (phần trọng số làm tròn đến 3 chữ số thập phân, ví dụ 0.012345 $\\\\to $ 0.012)\"))\n",
    "display(md(\"Salary = Quant x 585.895\"))"
   ]
  },
  {
   "cell_type": "markdown",
   "metadata": {},
   "source": [
    "Công thức hồi quy (phần trọng số làm tròn đến 3 chữ số thập phân, ví dụ 0.012345 $\\to$ 0.012)\n",
    "\n",
    "$$\\text{Salary} = ...$$"
   ]
  },
  {
   "cell_type": "markdown",
   "metadata": {},
   "source": [
    "# Yêu cầu 1d: Sinh viên tự xây dựng mô hình, tìm mô hình cho kết quả tốt nhất (3 điểm)"
   ]
  },
  {
   "cell_type": "markdown",
   "metadata": {},
   "source": [
    "Lưu ý: khi sử dụng cross-validation, sinh viên cần xáo trộn dữ liệu 1 lần duy nhất và thực hiện trên toàn bộ $m$ mô hình mà sinh viên thiết kế"
   ]
  },
  {
   "cell_type": "markdown",
   "metadata": {},
   "source": [
    "## Tìm mô hình"
   ]
  },
  {
   "cell_type": "code",
   "execution_count": null,
   "metadata": {},
   "outputs": [],
   "source": [
    "# Trình bày các phần tìm ra mô hình"
   ]
  },
  {
   "cell_type": "markdown",
   "metadata": {},
   "source": [
    "## Thử nghiệm, so sánh các mô hình"
   ]
  },
  {
   "cell_type": "code",
   "execution_count": null,
   "metadata": {},
   "outputs": [],
   "source": [
    "# Phần code cho yêu cầu 1d\n",
    "# Tìm ra mô hình tốt nhất (tự thiết kế bởi sinh viên)\n",
    "# In ra các kết quả cross-validation như yêu cầu"
   ]
  },
  {
   "cell_type": "code",
   "execution_count": null,
   "metadata": {},
   "outputs": [],
   "source": [
    "# Huấn luyện lại mô hình my_best_model trên toàn bộ tập huấn luyện"
   ]
  },
  {
   "cell_type": "code",
   "execution_count": null,
   "metadata": {},
   "outputs": [],
   "source": [
    "# Gọi hàm MAE (tự cài đặt hoặc từ thư viện) trên tập kiểm tra với mô hình my_best_model"
   ]
  },
  {
   "cell_type": "markdown",
   "metadata": {},
   "source": [
    "Công thức hồi quy (phần trọng số làm tròn đến 3 chữ số thập phân, ví dụ 0.012345 $\\to$ 0.012)\n",
    "\n",
    "$$\\text{Salary} = ...$$"
   ]
  }
 ],
 "metadata": {
  "kernelspec": {
   "display_name": "Python 3.8.5 ('base')",
   "language": "python",
   "name": "python3"
  },
  "language_info": {
   "codemirror_mode": {
    "name": "ipython",
    "version": 3
   },
   "file_extension": ".py",
   "mimetype": "text/x-python",
   "name": "python",
   "nbconvert_exporter": "python",
   "pygments_lexer": "ipython3",
   "version": "3.11.3"
  },
  "orig_nbformat": 4,
  "vscode": {
   "interpreter": {
    "hash": "15af99fd1a1a3f0a3416ea421564e792a8676a13670c2eed127d89ab0518a27b"
   }
  }
 },
 "nbformat": 4,
 "nbformat_minor": 2
}
