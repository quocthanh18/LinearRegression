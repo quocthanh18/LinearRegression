{
 "cells": [
  {
   "cell_type": "markdown",
   "metadata": {},
   "source": [
    "# <center>Đồ án 3: Linear Regression</center>"
   ]
  },
  {
   "cell_type": "markdown",
   "metadata": {},
   "source": [
    "# Thông tin sinh viên\n",
    "\n",
    "- Họ và tên: Phạm Nguyễn Quốc Thanh\n",
    "- MSSV: 21127428\n",
    "- Lớp: 21CLC08"
   ]
  },
  {
   "cell_type": "markdown",
   "metadata": {},
   "source": [
    "# Import"
   ]
  },
  {
   "cell_type": "code",
   "execution_count": 2260,
   "metadata": {},
   "outputs": [],
   "source": [
    "import pandas as pd\n",
    "import numpy as np\n",
    "from IPython.display import Markdown as md\n",
    "from sklearn.model_selection import cross_val_score, KFold\n",
    "from sklearn.linear_model import LinearRegression\n",
    "# Import thêm dữ thư viện nếu cần\n",
    "#1: Male\n",
    "#2: Female"
   ]
  },
  {
   "cell_type": "markdown",
   "metadata": {},
   "source": [
    "# Đọc dữ liệu"
   ]
  },
  {
   "cell_type": "code",
   "execution_count": 2261,
   "metadata": {},
   "outputs": [],
   "source": [
    "# Đọc dữ liệu bằng pandas\n",
    "train = pd.read_csv('train.csv')\n",
    "test = pd.read_csv('test.csv')\n",
    "\n",
    "# Lấy các đặc trưng X và giá trị mục tiêu y cho các tập huấn luyện (X_train) và kiểm tra (test)\n",
    "X_train = train.iloc[:, :-1]    # Dataframe (chứa 10 đặc trưng huấn luyện)\n",
    "y_train = train.iloc[:, -1]     # Series    (chứa 1 giá trị mục tiêu kiểm tra)\n",
    "X_test = test.iloc[:, :-1]      # Dataframe (chứa 10 đặc trưng kiểm tra)\n",
    "y_test = test.iloc[:, -1]       # Series    (chứa 1 giá trị mục tiêu kiểm tra)\n",
    "first_11_data_train = train.iloc[:, :11]\n",
    "first_11_data_test = test.iloc[:, :11]\n",
    "# Sinh viên có thể sử dụng các khác nếu cần"
   ]
  },
  {
   "cell_type": "markdown",
   "metadata": {},
   "source": [
    "# Cài đặt hàm"
   ]
  },
  {
   "cell_type": "code",
   "execution_count": 2262,
   "metadata": {},
   "outputs": [],
   "source": [
    "# Cài đặt các hàm cần thiết ở đây\n",
    "class OLSLinearRegression:\n",
    "    def fit(self, X, y):\n",
    "        X_pinv = np.linalg.inv(X.T @ X) @ X.T    # np.linalg.pinv(X)\n",
    "        self.w = X_pinv @ y\n",
    "\n",
    "        return self\n",
    "\n",
    "\n",
    "    def get_params(self):\n",
    "        return self.w\n",
    "\n",
    "\n",
    "    def predict(self, X):\n",
    "        return np.sum(self.w.ravel() * X, axis=1)\n",
    "\n",
    "def mae(y, y_hat):\n",
    "    return np.mean(np.abs(y.ravel() - y_hat.ravel())) \n",
    "\n",
    "def format_float(x):\n",
    "    return '{:.3f}'.format(x)"
   ]
  },
  {
   "cell_type": "markdown",
   "metadata": {},
   "source": [
    "# Yêu cầu 1a: Sử dụng toàn bộ 11 đặc trưng đầu tiên `Gender`, `10percentage`, `12percentage`, `CollegeTier`, `Degree`, `collegeGPA`, `CollegeCityTier`, `English`, `Logical`, `Quant`, `Domain` (2 điểm) "
   ]
  },
  {
   "cell_type": "code",
   "execution_count": 2263,
   "metadata": {},
   "outputs": [],
   "source": [
    "# Phần code cho yêu cầu 1a\n",
    "lr_1a = OLSLinearRegression().fit(first_11_data_train, y_train)"
   ]
  },
  {
   "cell_type": "code",
   "execution_count": 2264,
   "metadata": {},
   "outputs": [
    {
     "name": "stdout",
     "output_type": "stream",
     "text": [
      "MAE trên tập kiểm tra:  104863.77754033124\n",
      "Weights:\n",
      " 0    -22756.512821\n",
      "1       804.503156\n",
      "2      1294.654565\n",
      "3    -91781.897530\n",
      "4     23182.388679\n",
      "5      1437.548672\n",
      "6     -8570.661985\n",
      "7       147.858299\n",
      "8       152.888476\n",
      "9       117.221846\n",
      "10    34552.286221\n",
      "dtype: float64\n"
     ]
    }
   ],
   "source": [
    "# Gọi hàm MAE (tự cài đặt hoặc từ thư viện) trên tập kiểm tra\n",
    "y_hat = lr_1a.predict(first_11_data_test)\n",
    "\n",
    "#Library\n",
    "# print(\"MAE: \", mean_absolute_error(y_test.to_numpy().reshape(-1, 1), y_hat.reshape(-1, 1)))\n",
    "# print(lr_1a.coef_)\n",
    "# print(lr_1a.intercept_)\n",
    "\n",
    "#Self\n",
    "print(\"MAE trên tập kiểm tra: \", mae(y_test.to_numpy().reshape(-1, 1), y_hat))\n",
    "np.set_printoptions(suppress=True, precision=3)\n",
    "weights = lr_1a.get_params()\n",
    "print(\"Weights:\\n\", weights)"
   ]
  },
  {
   "cell_type": "code",
   "execution_count": 2265,
   "metadata": {},
   "outputs": [
    {
     "data": {
      "text/markdown": [
       "Công thức hồi quy (phần trọng số làm tròn đến 3 chữ số thập phân, ví dụ 0.012345 $\\to $ 0.012)"
      ],
      "text/plain": [
       "<IPython.core.display.Markdown object>"
      ]
     },
     "metadata": {},
     "output_type": "display_data"
    },
    {
     "data": {
      "text/markdown": [
       "Salary = -22756.513 x Gender + 804.503 x 10percentage + 1294.655 x 12percentage + -91781.898 x CollegeTier + 23182.389 x Degree + 1437.549 x collegeGPA + -8570.662 x CollegeCityTier + 147.858 x English + 152.888 x Logical + 117.222 x Quant + 34552.286 x Domain"
      ],
      "text/plain": [
       "<IPython.core.display.Markdown object>"
      ]
     },
     "metadata": {},
     "output_type": "display_data"
    }
   ],
   "source": [
    "first_11_columns = X_train.columns[:-1].to_numpy()\n",
    "results = zip(first_11_columns, lr_1a.get_params())\n",
    "\n",
    "display(md(\"Công thức hồi quy (phần trọng số làm tròn đến 3 chữ số thập phân, ví dụ 0.012345 $\\\\to $ 0.012)\"))\n",
    "display(md(\"Salary = \" + \" + \".join(f\"{w:.3f} x {f}\" for f, w in results)))"
   ]
  },
  {
   "cell_type": "markdown",
   "metadata": {},
   "source": [
    "# Xáo trộn dữ liệu 1 lần cho toàn bộ các câu còn lại"
   ]
  },
  {
   "cell_type": "code",
   "execution_count": 2266,
   "metadata": {},
   "outputs": [],
   "source": [
    "train = train.sample(frac=1)\n",
    "X_train = train.iloc[:, :-1]\n",
    "y_train = train.iloc[:, -1]"
   ]
  },
  {
   "cell_type": "markdown",
   "metadata": {},
   "source": [
    "# Yêu cầu 1b: Xây dựng mô hình sử dụng duy nhất 1 đặc trưng tính cách với các đặc trưng tính cách gồm `conscientiousness`, `agreeableness`, `extraversion`, `nueroticism`, `openess_to_experience`, tìm mô hình cho kết quả tốt nhất (1 điểm)"
   ]
  },
  {
   "cell_type": "markdown",
   "metadata": {},
   "source": [
    "Lưu ý: khi sử dụng cross-validation, sinh viên cần xáo trộn dữ liệu 1 lần duy nhất và thực hiện trên toàn bộ đặc trưng"
   ]
  },
  {
   "cell_type": "code",
   "execution_count": 2267,
   "metadata": {},
   "outputs": [
    {
     "name": "stdout",
     "output_type": "stream",
     "text": [
      "  Mô hình với 1 đặc trưng         MAE\n",
      "4             neuroticism  299288.319\n",
      "1           agreeableness  300868.068\n",
      "3   openess_to_experience  302959.389\n",
      "0       conscientiousness  306026.018\n",
      "2            extraversion  307056.254\n"
     ]
    }
   ],
   "source": [
    "# Phần code cho yêu cầu 1b\n",
    "# Tìm ra đặc trưng tốt nhất\n",
    "# In ra các kết quả cross-validation như yêu cầu\n",
    "kfold = KFold(n_splits=10, shuffle=False)\n",
    "models_train = [X_train.loc[:, 'conscientiousness'].to_numpy().reshape(-1, 1), X_train.loc[:, 'agreeableness'].to_numpy().reshape(-1, 1), X_train.loc[:, 'extraversion'].to_numpy().reshape(-1, 1), X_train.loc[:, 'openess_to_experience'].to_numpy().reshape(-1, 1), X_train.loc[:, 'nueroticism'].to_numpy().reshape(-1, 1)]\n",
    "models_test = [X_test.loc[:, 'conscientiousness'].to_numpy().reshape(-1, 1), X_test.loc[:, 'agreeableness'].to_numpy().reshape(-1, 1), X_test.loc[:, 'extraversion'].to_numpy().reshape(-1, 1), X_test.loc[:, 'openess_to_experience'].to_numpy().reshape(-1, 1), X_test.loc[:, 'nueroticism'].to_numpy().reshape(-1, 1)]\n",
    "models_name = ['conscientiousness', 'agreeableness', 'extraversion', 'openess_to_experience', 'neuroticism']\n",
    "\n",
    "average_maes = [np.abs(cross_val_score(LinearRegression(fit_intercept=False), model, y_train, cv=kfold, scoring='neg_mean_absolute_error')).mean() for model in models_train]\n",
    "best_model_index = average_maes.index(min(average_maes))\n",
    "\n",
    "df = pd.DataFrame(list(zip(models_name, average_maes)), columns =['Mô hình với 1 đặc trưng', 'MAE'])\n",
    "df['MAE'] = df['MAE'].apply(format_float)\n",
    "df.sort_values(by=['MAE'], inplace=True)\n",
    "print(df)\n",
    "#Nueroticism là đặc trưng tốt nhất"
   ]
  },
  {
   "cell_type": "code",
   "execution_count": 2268,
   "metadata": {},
   "outputs": [],
   "source": [
    "# Huấn luyện lại mô hình best_personality_feature_model với đặc trưng tốt nhất trên toàn bộ tập huấn luyện\n",
    "my_best_personality_feature_model = OLSLinearRegression().fit(models_train[best_model_index], y_train)"
   ]
  },
  {
   "cell_type": "code",
   "execution_count": 2269,
   "metadata": {},
   "outputs": [
    {
     "name": "stdout",
     "output_type": "stream",
     "text": [
      "MAE trên tập kiểm tra:  291019.693226953\n",
      "[-56546.304]\n"
     ]
    }
   ],
   "source": [
    "# Gọi hàm MAE (tự cài đặt hoặc từ thư viện) trên tập kiểm tra với mô hình best_personality_feature_model\n",
    "X_Para = models_test[best_model_index]\n",
    "y_hat = my_best_personality_feature_model.predict(X_Para)\n",
    "print(\"MAE trên tập kiểm tra: \", mae(y_test, y_hat))\n",
    "print(my_best_personality_feature_model.w)"
   ]
  },
  {
   "cell_type": "code",
   "execution_count": 2270,
   "metadata": {},
   "outputs": [
    {
     "data": {
      "text/markdown": [
       "Công thức hồi quy (phần trọng số làm tròn đến 3 chữ số thập phân, ví dụ 0.012345 $\\to $ 0.012)"
      ],
      "text/plain": [
       "<IPython.core.display.Markdown object>"
      ]
     },
     "metadata": {},
     "output_type": "display_data"
    },
    {
     "data": {
      "text/markdown": [
       "Salary = Neuroticism x -56546.304"
      ],
      "text/plain": [
       "<IPython.core.display.Markdown object>"
      ]
     },
     "metadata": {},
     "output_type": "display_data"
    }
   ],
   "source": [
    "display(md(\"Công thức hồi quy (phần trọng số làm tròn đến 3 chữ số thập phân, ví dụ 0.012345 $\\\\to $ 0.012)\"))\n",
    "display(md(\"Salary = Neuroticism x -56546.304\"))"
   ]
  },
  {
   "cell_type": "markdown",
   "metadata": {},
   "source": [
    "Công thức hồi quy (phần trọng số làm tròn đến 3 chữ số thập phân, ví dụ 0.012345 $\\to$ 0.012)\n",
    "\n",
    "$$\\text{Salary} = ...$$"
   ]
  },
  {
   "cell_type": "markdown",
   "metadata": {},
   "source": [
    "# Yêu cầu 1c: Xây dựng mô hình sử dụng duy nhất 1 đặc trưng `English`, `Logical`, `Quant`, tìm mô hình cho kết quả tốt nhất (1 điểm)"
   ]
  },
  {
   "cell_type": "markdown",
   "metadata": {},
   "source": [
    "Lưu ý: khi sử dụng cross-validation, sinh viên cần xáo trộn dữ liệu 1 lần duy nhất và thực hiện trên toàn bộ đặc trưng"
   ]
  },
  {
   "cell_type": "code",
   "execution_count": 2271,
   "metadata": {},
   "outputs": [
    {
     "name": "stdout",
     "output_type": "stream",
     "text": [
      "  Mô hình với 1 đặc trưng         MAE\n",
      "0                   Quant  118084.656\n",
      "1                 Logical  120272.582\n",
      "2                 English  121889.717\n"
     ]
    }
   ],
   "source": [
    "# Phần code cho yêu cầu 1c\n",
    "# Tìm ra đặc trưng tốt nhất\n",
    "# In ra các kết quả cross-validation như yêu cầu\n",
    "kfold = KFold(n_splits=10, shuffle=False)\n",
    "models_train = [X_train.loc[:, 'Quant'].to_numpy().reshape(-1, 1), X_train.loc[:, 'Logical'].to_numpy().reshape(-1, 1), X_train.loc[:, 'English'].to_numpy().reshape(-1, 1)]\n",
    "models_test = [X_test.loc[:, 'Quant'].to_numpy().reshape(-1, 1), X_test.loc[:, 'Logical'].to_numpy().reshape(-1, 1), X_test.loc[:, 'English'].to_numpy().reshape(-1, 1)]\n",
    "models_name = ['Quant', 'Logical', 'English']\n",
    "\n",
    "average_maes = [np.abs(cross_val_score(LinearRegression(fit_intercept=False), model, y_train, cv=kfold, scoring='neg_mean_absolute_error')).mean() for model in models_train]\n",
    "best_model_index = average_maes.index(min(average_maes))\n",
    "\n",
    "df = pd.DataFrame(list(zip(models_name, average_maes)), columns =['Mô hình với 1 đặc trưng', 'MAE'])\n",
    "df['MAE'] = df['MAE'].apply(format_float)\n",
    "df.sort_values(by=['MAE'], inplace=True)\n",
    "print(df)\n",
    "#Quant là đặc trưng tốt nhất"
   ]
  },
  {
   "cell_type": "code",
   "execution_count": 2272,
   "metadata": {},
   "outputs": [],
   "source": [
    "# Huấn luyện lại mô hình best_skill_feature_model với đặc trưng tốt nhất trên toàn bộ tập huấn luyện\n",
    "my_best_skill_feature_model = OLSLinearRegression().fit(models_train[best_model_index], y_train)"
   ]
  },
  {
   "cell_type": "code",
   "execution_count": 2273,
   "metadata": {},
   "outputs": [
    {
     "name": "stdout",
     "output_type": "stream",
     "text": [
      "MAE trên tập kiểm tra:  106819.57761989675\n",
      "[585.895]\n"
     ]
    }
   ],
   "source": [
    "# Gọi hàm MAE (tự cài đặt hoặc từ thư viện) trên tập kiểm tra với mô hình best_skill_feature_model\n",
    "X_Para = models_test[best_model_index]\n",
    "y_hat = my_best_skill_feature_model.predict(X_Para)\n",
    "print(\"MAE trên tập kiểm tra: \", mae(y_test, y_hat))\n",
    "print(my_best_skill_feature_model.w)"
   ]
  },
  {
   "cell_type": "code",
   "execution_count": 2274,
   "metadata": {},
   "outputs": [
    {
     "data": {
      "text/markdown": [
       "Công thức hồi quy (phần trọng số làm tròn đến 3 chữ số thập phân, ví dụ 0.012345 $\\to $ 0.012)"
      ],
      "text/plain": [
       "<IPython.core.display.Markdown object>"
      ]
     },
     "metadata": {},
     "output_type": "display_data"
    },
    {
     "data": {
      "text/markdown": [
       "Salary = Quant x 585.895"
      ],
      "text/plain": [
       "<IPython.core.display.Markdown object>"
      ]
     },
     "metadata": {},
     "output_type": "display_data"
    }
   ],
   "source": [
    "display(md(\"Công thức hồi quy (phần trọng số làm tròn đến 3 chữ số thập phân, ví dụ 0.012345 $\\\\to $ 0.012)\"))\n",
    "display(md(\"Salary = Quant x 585.895\"))"
   ]
  },
  {
   "cell_type": "markdown",
   "metadata": {},
   "source": [
    "Công thức hồi quy (phần trọng số làm tròn đến 3 chữ số thập phân, ví dụ 0.012345 $\\to$ 0.012)\n",
    "\n",
    "$$\\text{Salary} = ...$$"
   ]
  },
  {
   "cell_type": "markdown",
   "metadata": {},
   "source": [
    "# Yêu cầu 1d: Sinh viên tự xây dựng mô hình, tìm mô hình cho kết quả tốt nhất (3 điểm)"
   ]
  },
  {
   "cell_type": "markdown",
   "metadata": {},
   "source": [
    "Lưu ý: khi sử dụng cross-validation, sinh viên cần xáo trộn dữ liệu 1 lần duy nhất và thực hiện trên toàn bộ $m$ mô hình mà sinh viên thiết kế"
   ]
  },
  {
   "cell_type": "markdown",
   "metadata": {},
   "source": [
    "## Tìm mô hình"
   ]
  },
  {
   "cell_type": "code",
   "execution_count": 2275,
   "metadata": {},
   "outputs": [
    {
     "name": "stdout",
     "output_type": "stream",
     "text": [
      "                  Feature         MAE\n",
      "23                    All  110819.783\n",
      "9                   Quant  118084.656\n",
      "1            10percentage  118799.425\n",
      "2            12percentage  119999.959\n",
      "8                 Logical  120272.582\n",
      "5              collegeGPA  121465.394\n",
      "7                 English  121889.717\n",
      "3             CollegeTier  133419.687\n",
      "4                  Degree  137445.829\n",
      "0                  Gender  150338.016\n",
      "11    ComputerProgramming  156004.599\n",
      "10                 Domain  175501.440\n",
      "6         CollegeCityTier  251472.088\n",
      "12  ElectronicsAndSemicon  257387.035\n",
      "13        ComputerScience  268417.110\n",
      "16            TelecomEngg  290909.583\n",
      "14         MechanicalEngg  297356.993\n",
      "21            nueroticism  299288.319\n",
      "19          agreeableness  300868.068\n",
      "15         ElectricalEngg  301171.124\n",
      "22  openess_to_experience  302959.389\n",
      "18      conscientiousness  306026.018\n",
      "17              CivilEngg  306126.248\n",
      "20           extraversion  307056.254\n"
     ]
    }
   ],
   "source": [
    "# Trình bày các phần tìm ra mô hình\n",
    "kfold = KFold(n_splits=10, shuffle=False)\n",
    "models_train = []\n",
    "models_test = []\n",
    "for i in range(23):\n",
    "    single_feature_model = X_train.iloc[:, i].to_numpy().reshape(-1, 1)\n",
    "    models_train.append(single_feature_model)\n",
    "    models_test.append(X_test.iloc[:, i])\n",
    "models_train.append(X_train)\n",
    "models_test.append(X_test)\n",
    "\n",
    "average_maes = np.zeros(len(models_train))\n",
    "average_maes = [np.abs(cross_val_score(LinearRegression(fit_intercept=False), model , y_train, scoring='neg_mean_absolute_error', cv=kfold).mean()) for model in models_train]\n",
    "df = []\n",
    "for i in range(23):\n",
    "    row = []\n",
    "    row.append(X_train.columns[i])\n",
    "    row.append(average_maes[i])\n",
    "    df.append(row)\n",
    "df.append(['All', average_maes[23]])\n",
    "df = pd.DataFrame(df, columns=['Feature', 'MAE'])\n",
    "df['MAE'] = df['MAE'].apply(format_float)\n",
    "df = df.sort_values(by=['MAE'])\n",
    "print(df)"
   ]
  },
  {
   "cell_type": "markdown",
   "metadata": {},
   "source": [
    "## Thử nghiệm, so sánh các mô hình"
   ]
  },
  {
   "cell_type": "code",
   "execution_count": 2276,
   "metadata": {},
   "outputs": [
    {
     "data": {
      "text/html": [
       "<div>\n",
       "<style scoped>\n",
       "    .dataframe tbody tr th:only-of-type {\n",
       "        vertical-align: middle;\n",
       "    }\n",
       "\n",
       "    .dataframe tbody tr th {\n",
       "        vertical-align: top;\n",
       "    }\n",
       "\n",
       "    .dataframe thead th {\n",
       "        text-align: right;\n",
       "    }\n",
       "</style>\n",
       "<table border=\"1\" class=\"dataframe\">\n",
       "  <thead>\n",
       "    <tr style=\"text-align: right;\">\n",
       "      <th></th>\n",
       "      <th>Mô hình</th>\n",
       "      <th>Average MAE</th>\n",
       "    </tr>\n",
       "  </thead>\n",
       "  <tbody>\n",
       "    <tr>\n",
       "      <th>2</th>\n",
       "      <td>Mô hình thứ 3</td>\n",
       "      <td>110819.783004</td>\n",
       "    </tr>\n",
       "    <tr>\n",
       "      <th>0</th>\n",
       "      <td>Mô hình thứ 1</td>\n",
       "      <td>110819.783004</td>\n",
       "    </tr>\n",
       "    <tr>\n",
       "      <th>1</th>\n",
       "      <td>Mô hình thứ 2</td>\n",
       "      <td>110982.115891</td>\n",
       "    </tr>\n",
       "  </tbody>\n",
       "</table>\n",
       "</div>"
      ],
      "text/plain": [
       "         Mô hình    Average MAE\n",
       "2  Mô hình thứ 3  110819.783004\n",
       "0  Mô hình thứ 1  110819.783004\n",
       "1  Mô hình thứ 2  110982.115891"
      ]
     },
     "execution_count": 2276,
     "metadata": {},
     "output_type": "execute_result"
    }
   ],
   "source": [
    "# Phần code cho yêu cầu 1d\n",
    "# Tìm ra mô hình tốt nhất (tự thiết kế bởi sinh viên)\n",
    "# In ra các kết quả cross-validation như yêu cầu\n",
    "kfold = KFold(n_splits=10, shuffle=False)\n",
    "\n",
    "#Mô hình thứ nhất: Sử dụng 23 đặc trưng\n",
    "first_model = X_train\n",
    "first_model_test = X_test\n",
    "\n",
    "#Mô hình thứ hai: Sử dụng 23 đặc trưng và thêm 1 đặc trưng mới là tổng của 3 đặc trưng Logical, English và Quant\n",
    "second_model = np.hstack((X_train, (X_train.loc[:, 'Quant'].to_numpy().reshape(-1, 1) + X_train.loc[:, 'Logical'].to_numpy().reshape(-1, 1) + X_train.loc[:, 'English'].to_numpy().reshape(-1, 1)) / 3))\n",
    "second_model_test = np.hstack((X_test, (X_test.loc[:, 'Quant'].to_numpy().reshape(-1, 1) + X_test.loc[:, 'Logical'].to_numpy().reshape(-1, 1) + X_test.loc[:, 'English'].to_numpy().reshape(-1, 1)) / 3))\n",
    "\n",
    "#Mô hình thứ ba: Loại bỏ sự ảnh hưởng của các đặc trưng tính cách và thêm 1 đặc trưng mới là tổng của 3 đặc trưng Logical, English và Quant\n",
    "third_model = np.hstack((X_train,(X_train.loc[: , 'collegeGPA'].to_numpy().reshape(-1, 1) + X_train.loc[: , '10percentage'].to_numpy().reshape(-1, 1) + X_train.loc[: , '12percentage'].to_numpy().reshape(-1, 1)) / 3 ))\n",
    "third_model_test = np.hstack((X_test, (X_test.loc[:, 'collegeGPA'].to_numpy().reshape(-1, 1) + X_test.loc[:, '10percentage'].to_numpy().reshape(-1, 1) + X_test.loc[:, '12percentage'].to_numpy().reshape(-1, 1)) / 3 ))\n",
    "\n",
    "models_train = [first_model, second_model, third_model]\n",
    "models_test = [first_model_test, second_model_test, third_model_test]\n",
    "\n",
    "average_mae = np.zeros(len(models_train))\n",
    "average_mae = [np.abs(cross_val_score(LinearRegression(fit_intercept=False), model, y_train, cv=kfold, scoring='neg_mean_absolute_error').mean()) for model in models_train]\n",
    "data = []\n",
    "for i in range(len(models_train)):\n",
    "    data.append(['Mô hình thứ ' + str(i + 1), average_mae[i]])\n",
    "df = pd.DataFrame(data, columns=['Mô hình', 'Average MAE'])\n",
    "df.sort_values(['Average MAE'], inplace=True)\n",
    "df"
   ]
  },
  {
   "cell_type": "code",
   "execution_count": 2277,
   "metadata": {},
   "outputs": [],
   "source": [
    "# Huấn luyện lại mô hình my_best_model trên toàn bộ tập huấn luyện\n",
    "best_model_index = np.argmin(average_mae)\n",
    "my_best_model = LinearRegression(fit_intercept=False).fit(models_train[best_model_index], y_train)"
   ]
  },
  {
   "cell_type": "code",
   "execution_count": 2278,
   "metadata": {},
   "outputs": [
    {
     "name": "stdout",
     "output_type": "stream",
     "text": [
      "MAE trên tập kiểm tra:  101872.21056619212\n"
     ]
    }
   ],
   "source": [
    "# Gọi hàm MAE (tự cài đặt hoặc từ thư viện) trên tập kiểm tra với mô hình my_best_model\n",
    "y_hat_best = my_best_model.predict(models_test[best_model_index])\n",
    "print(\"MAE trên tập kiểm tra: \", mae(y_test, y_hat_best))"
   ]
  },
  {
   "cell_type": "markdown",
   "metadata": {},
   "source": [
    "Công thức hồi quy (phần trọng số làm tròn đến 3 chữ số thập phân, ví dụ 0.012345 $\\to$ 0.012)\n",
    "\n",
    "$$\\text{Salary} = ...$$"
   ]
  }
 ],
 "metadata": {
  "kernelspec": {
   "display_name": "Python 3.8.5 ('base')",
   "language": "python",
   "name": "python3"
  },
  "language_info": {
   "codemirror_mode": {
    "name": "ipython",
    "version": 3
   },
   "file_extension": ".py",
   "mimetype": "text/x-python",
   "name": "python",
   "nbconvert_exporter": "python",
   "pygments_lexer": "ipython3",
   "version": "3.11.3"
  },
  "orig_nbformat": 4,
  "vscode": {
   "interpreter": {
    "hash": "15af99fd1a1a3f0a3416ea421564e792a8676a13670c2eed127d89ab0518a27b"
   }
  }
 },
 "nbformat": 4,
 "nbformat_minor": 2
}
